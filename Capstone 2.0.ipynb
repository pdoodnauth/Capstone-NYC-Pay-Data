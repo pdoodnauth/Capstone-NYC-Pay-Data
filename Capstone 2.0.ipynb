{
 "cells": [
  {
   "cell_type": "code",
   "execution_count": 1,
   "id": "16572c19",
   "metadata": {},
   "outputs": [],
   "source": [
    "import pandas as pd\n",
    "import numpy as np\n",
    "import seaborn as sns\n",
    "import matplotlib.pyplot as plt"
   ]
  },
  {
   "cell_type": "markdown",
   "id": "7a7964f8",
   "metadata": {},
   "source": [
    "# Importing Local Law 18 Data Set"
   ]
  },
  {
   "cell_type": "code",
   "execution_count": 9,
   "id": "eeceffd6",
   "metadata": {},
   "outputs": [],
   "source": [
    "df = pd.read_csv(r\"C:\\Users\\prati\\Downloads\\Local_Law_18_Pay_and_Demographics_Report_-_Agency_Report_Table (1).csv\", dtype={'string_col': 'float16','int_col': 'float16'})"
   ]
  },
  {
   "cell_type": "markdown",
   "id": "6350293f",
   "metadata": {},
   "source": [
    "### Exploring data"
   ]
  },
  {
   "cell_type": "code",
   "execution_count": 10,
   "id": "3adf342a",
   "metadata": {
    "scrolled": false
   },
   "outputs": [
    {
     "data": {
      "text/html": [
       "<div>\n",
       "<style scoped>\n",
       "    .dataframe tbody tr th:only-of-type {\n",
       "        vertical-align: middle;\n",
       "    }\n",
       "\n",
       "    .dataframe tbody tr th {\n",
       "        vertical-align: top;\n",
       "    }\n",
       "\n",
       "    .dataframe thead th {\n",
       "        text-align: right;\n",
       "    }\n",
       "</style>\n",
       "<table border=\"1\" class=\"dataframe\">\n",
       "  <thead>\n",
       "    <tr style=\"text-align: right;\">\n",
       "      <th></th>\n",
       "      <th>Agency Name</th>\n",
       "      <th>EEO-4 Job Category</th>\n",
       "      <th>Pay Band</th>\n",
       "      <th>Unnamed: 3</th>\n",
       "      <th>Employee Status</th>\n",
       "      <th>Race</th>\n",
       "      <th>Ethnicity</th>\n",
       "      <th>Gender</th>\n",
       "      <th>Number of Employees</th>\n",
       "    </tr>\n",
       "  </thead>\n",
       "  <tbody>\n",
       "    <tr>\n",
       "      <th>0</th>\n",
       "      <td>DEPARTMENT OF BUILDINGS</td>\n",
       "      <td>PROFESSIONALS</td>\n",
       "      <td>65000.0</td>\n",
       "      <td>NaN</td>\n",
       "      <td>Full-Time</td>\n",
       "      <td>White</td>\n",
       "      <td>Hispanic or Latino</td>\n",
       "      <td>Male</td>\n",
       "      <td>&lt;5</td>\n",
       "    </tr>\n",
       "    <tr>\n",
       "      <th>1</th>\n",
       "      <td>DEPARTMENT OF BUILDINGS</td>\n",
       "      <td>PROFESSIONALS</td>\n",
       "      <td>65000.0</td>\n",
       "      <td>NaN</td>\n",
       "      <td>Full-Time</td>\n",
       "      <td>White</td>\n",
       "      <td>Non-Hispanic or Latino</td>\n",
       "      <td>Female</td>\n",
       "      <td>26</td>\n",
       "    </tr>\n",
       "    <tr>\n",
       "      <th>2</th>\n",
       "      <td>DEPARTMENT OF BUILDINGS</td>\n",
       "      <td>PROFESSIONALS</td>\n",
       "      <td>65000.0</td>\n",
       "      <td>NaN</td>\n",
       "      <td>Full-Time</td>\n",
       "      <td>White</td>\n",
       "      <td>Non-Hispanic or Latino</td>\n",
       "      <td>Male</td>\n",
       "      <td>61</td>\n",
       "    </tr>\n",
       "    <tr>\n",
       "      <th>3</th>\n",
       "      <td>FIRE DEPARTMENT</td>\n",
       "      <td>TECHNICIANS</td>\n",
       "      <td>50000.0</td>\n",
       "      <td>NaN</td>\n",
       "      <td>Full-Time</td>\n",
       "      <td>White</td>\n",
       "      <td>Non-Hispanic or Latino</td>\n",
       "      <td>Female</td>\n",
       "      <td>88</td>\n",
       "    </tr>\n",
       "    <tr>\n",
       "      <th>4</th>\n",
       "      <td>FIRE DEPARTMENT</td>\n",
       "      <td>TECHNICIANS</td>\n",
       "      <td>50000.0</td>\n",
       "      <td>NaN</td>\n",
       "      <td>Full-Time</td>\n",
       "      <td>White</td>\n",
       "      <td>Non-Hispanic or Latino</td>\n",
       "      <td>Male</td>\n",
       "      <td>283</td>\n",
       "    </tr>\n",
       "    <tr>\n",
       "      <th>...</th>\n",
       "      <td>...</td>\n",
       "      <td>...</td>\n",
       "      <td>...</td>\n",
       "      <td>...</td>\n",
       "      <td>...</td>\n",
       "      <td>...</td>\n",
       "      <td>...</td>\n",
       "      <td>...</td>\n",
       "      <td>...</td>\n",
       "    </tr>\n",
       "    <tr>\n",
       "      <th>17766</th>\n",
       "      <td>POLICE DEPARTMENT</td>\n",
       "      <td>PROTECTIVE SERVICE</td>\n",
       "      <td>14.0</td>\n",
       "      <td>NaN</td>\n",
       "      <td>Seasonal</td>\n",
       "      <td>White</td>\n",
       "      <td>Non-Hispanic or Latino</td>\n",
       "      <td>Female</td>\n",
       "      <td>10</td>\n",
       "    </tr>\n",
       "    <tr>\n",
       "      <th>17767</th>\n",
       "      <td>POLICE DEPARTMENT</td>\n",
       "      <td>PROTECTIVE SERVICE</td>\n",
       "      <td>14.0</td>\n",
       "      <td>NaN</td>\n",
       "      <td>Seasonal</td>\n",
       "      <td>White</td>\n",
       "      <td>Non-Hispanic or Latino</td>\n",
       "      <td>Male</td>\n",
       "      <td>&lt;5</td>\n",
       "    </tr>\n",
       "    <tr>\n",
       "      <th>17768</th>\n",
       "      <td>POLICE DEPARTMENT</td>\n",
       "      <td>PROTECTIVE SERVICE</td>\n",
       "      <td>14.5</td>\n",
       "      <td>NaN</td>\n",
       "      <td>Seasonal</td>\n",
       "      <td>Unknown or Choose Not to Disclose</td>\n",
       "      <td>Hispanic or Latino</td>\n",
       "      <td>Female</td>\n",
       "      <td>&lt;5</td>\n",
       "    </tr>\n",
       "    <tr>\n",
       "      <th>17769</th>\n",
       "      <td>POLICE DEPARTMENT</td>\n",
       "      <td>PROTECTIVE SERVICE</td>\n",
       "      <td>14.5</td>\n",
       "      <td>NaN</td>\n",
       "      <td>Seasonal</td>\n",
       "      <td>White</td>\n",
       "      <td>Non-Hispanic or Latino</td>\n",
       "      <td>Female</td>\n",
       "      <td>&lt;5</td>\n",
       "    </tr>\n",
       "    <tr>\n",
       "      <th>17770</th>\n",
       "      <td>POLICE DEPARTMENT</td>\n",
       "      <td>PROTECTIVE SERVICE</td>\n",
       "      <td>15.0</td>\n",
       "      <td>NaN</td>\n",
       "      <td>Seasonal</td>\n",
       "      <td>White</td>\n",
       "      <td>Non-Hispanic or Latino</td>\n",
       "      <td>Female</td>\n",
       "      <td>&lt;5</td>\n",
       "    </tr>\n",
       "  </tbody>\n",
       "</table>\n",
       "<p>17771 rows × 9 columns</p>\n",
       "</div>"
      ],
      "text/plain": [
       "                   Agency Name  EEO-4 Job Category  Pay Band  Unnamed: 3  \\\n",
       "0      DEPARTMENT OF BUILDINGS       PROFESSIONALS   65000.0         NaN   \n",
       "1      DEPARTMENT OF BUILDINGS       PROFESSIONALS   65000.0         NaN   \n",
       "2      DEPARTMENT OF BUILDINGS       PROFESSIONALS   65000.0         NaN   \n",
       "3              FIRE DEPARTMENT         TECHNICIANS   50000.0         NaN   \n",
       "4              FIRE DEPARTMENT         TECHNICIANS   50000.0         NaN   \n",
       "...                        ...                 ...       ...         ...   \n",
       "17766        POLICE DEPARTMENT  PROTECTIVE SERVICE      14.0         NaN   \n",
       "17767        POLICE DEPARTMENT  PROTECTIVE SERVICE      14.0         NaN   \n",
       "17768        POLICE DEPARTMENT  PROTECTIVE SERVICE      14.5         NaN   \n",
       "17769        POLICE DEPARTMENT  PROTECTIVE SERVICE      14.5         NaN   \n",
       "17770        POLICE DEPARTMENT  PROTECTIVE SERVICE      15.0         NaN   \n",
       "\n",
       "      Employee Status                               Race  \\\n",
       "0           Full-Time                              White   \n",
       "1           Full-Time                              White   \n",
       "2           Full-Time                              White   \n",
       "3           Full-Time                              White   \n",
       "4           Full-Time                              White   \n",
       "...               ...                                ...   \n",
       "17766        Seasonal                              White   \n",
       "17767        Seasonal                              White   \n",
       "17768        Seasonal  Unknown or Choose Not to Disclose   \n",
       "17769        Seasonal                              White   \n",
       "17770        Seasonal                              White   \n",
       "\n",
       "                    Ethnicity  Gender Number of Employees  \n",
       "0          Hispanic or Latino    Male                  <5  \n",
       "1      Non-Hispanic or Latino  Female                  26  \n",
       "2      Non-Hispanic or Latino    Male                  61  \n",
       "3      Non-Hispanic or Latino  Female                  88  \n",
       "4      Non-Hispanic or Latino    Male                 283  \n",
       "...                       ...     ...                 ...  \n",
       "17766  Non-Hispanic or Latino  Female                  10  \n",
       "17767  Non-Hispanic or Latino    Male                  <5  \n",
       "17768      Hispanic or Latino  Female                  <5  \n",
       "17769  Non-Hispanic or Latino  Female                  <5  \n",
       "17770  Non-Hispanic or Latino  Female                  <5  \n",
       "\n",
       "[17771 rows x 9 columns]"
      ]
     },
     "execution_count": 10,
     "metadata": {},
     "output_type": "execute_result"
    }
   ],
   "source": [
    "df"
   ]
  },
  {
   "cell_type": "markdown",
   "id": "39679298",
   "metadata": {},
   "source": [
    "### Droping blank Column"
   ]
  },
  {
   "cell_type": "code",
   "execution_count": 11,
   "id": "b69a1503",
   "metadata": {},
   "outputs": [],
   "source": [
    "df.drop(\"Unnamed: 3\", axis=1, inplace = True)"
   ]
  },
  {
   "cell_type": "code",
   "execution_count": 12,
   "id": "a64cf923",
   "metadata": {},
   "outputs": [
    {
     "data": {
      "text/html": [
       "<div>\n",
       "<style scoped>\n",
       "    .dataframe tbody tr th:only-of-type {\n",
       "        vertical-align: middle;\n",
       "    }\n",
       "\n",
       "    .dataframe tbody tr th {\n",
       "        vertical-align: top;\n",
       "    }\n",
       "\n",
       "    .dataframe thead th {\n",
       "        text-align: right;\n",
       "    }\n",
       "</style>\n",
       "<table border=\"1\" class=\"dataframe\">\n",
       "  <thead>\n",
       "    <tr style=\"text-align: right;\">\n",
       "      <th></th>\n",
       "      <th>Agency Name</th>\n",
       "      <th>EEO-4 Job Category</th>\n",
       "      <th>Pay Band</th>\n",
       "      <th>Employee Status</th>\n",
       "      <th>Race</th>\n",
       "      <th>Ethnicity</th>\n",
       "      <th>Gender</th>\n",
       "      <th>Number of Employees</th>\n",
       "    </tr>\n",
       "  </thead>\n",
       "  <tbody>\n",
       "    <tr>\n",
       "      <th>0</th>\n",
       "      <td>DEPARTMENT OF BUILDINGS</td>\n",
       "      <td>PROFESSIONALS</td>\n",
       "      <td>65000.0</td>\n",
       "      <td>Full-Time</td>\n",
       "      <td>White</td>\n",
       "      <td>Hispanic or Latino</td>\n",
       "      <td>Male</td>\n",
       "      <td>&lt;5</td>\n",
       "    </tr>\n",
       "    <tr>\n",
       "      <th>1</th>\n",
       "      <td>DEPARTMENT OF BUILDINGS</td>\n",
       "      <td>PROFESSIONALS</td>\n",
       "      <td>65000.0</td>\n",
       "      <td>Full-Time</td>\n",
       "      <td>White</td>\n",
       "      <td>Non-Hispanic or Latino</td>\n",
       "      <td>Female</td>\n",
       "      <td>26</td>\n",
       "    </tr>\n",
       "    <tr>\n",
       "      <th>2</th>\n",
       "      <td>DEPARTMENT OF BUILDINGS</td>\n",
       "      <td>PROFESSIONALS</td>\n",
       "      <td>65000.0</td>\n",
       "      <td>Full-Time</td>\n",
       "      <td>White</td>\n",
       "      <td>Non-Hispanic or Latino</td>\n",
       "      <td>Male</td>\n",
       "      <td>61</td>\n",
       "    </tr>\n",
       "    <tr>\n",
       "      <th>3</th>\n",
       "      <td>FIRE DEPARTMENT</td>\n",
       "      <td>TECHNICIANS</td>\n",
       "      <td>50000.0</td>\n",
       "      <td>Full-Time</td>\n",
       "      <td>White</td>\n",
       "      <td>Non-Hispanic or Latino</td>\n",
       "      <td>Female</td>\n",
       "      <td>88</td>\n",
       "    </tr>\n",
       "    <tr>\n",
       "      <th>4</th>\n",
       "      <td>FIRE DEPARTMENT</td>\n",
       "      <td>TECHNICIANS</td>\n",
       "      <td>50000.0</td>\n",
       "      <td>Full-Time</td>\n",
       "      <td>White</td>\n",
       "      <td>Non-Hispanic or Latino</td>\n",
       "      <td>Male</td>\n",
       "      <td>283</td>\n",
       "    </tr>\n",
       "  </tbody>\n",
       "</table>\n",
       "</div>"
      ],
      "text/plain": [
       "               Agency Name EEO-4 Job Category  Pay Band Employee Status  \\\n",
       "0  DEPARTMENT OF BUILDINGS      PROFESSIONALS   65000.0       Full-Time   \n",
       "1  DEPARTMENT OF BUILDINGS      PROFESSIONALS   65000.0       Full-Time   \n",
       "2  DEPARTMENT OF BUILDINGS      PROFESSIONALS   65000.0       Full-Time   \n",
       "3          FIRE DEPARTMENT        TECHNICIANS   50000.0       Full-Time   \n",
       "4          FIRE DEPARTMENT        TECHNICIANS   50000.0       Full-Time   \n",
       "\n",
       "    Race               Ethnicity  Gender Number of Employees  \n",
       "0  White      Hispanic or Latino    Male                  <5  \n",
       "1  White  Non-Hispanic or Latino  Female                  26  \n",
       "2  White  Non-Hispanic or Latino    Male                  61  \n",
       "3  White  Non-Hispanic or Latino  Female                  88  \n",
       "4  White  Non-Hispanic or Latino    Male                 283  "
      ]
     },
     "execution_count": 12,
     "metadata": {},
     "output_type": "execute_result"
    }
   ],
   "source": [
    "df.head()"
   ]
  },
  {
   "cell_type": "code",
   "execution_count": 13,
   "id": "4e483a33",
   "metadata": {},
   "outputs": [
    {
     "name": "stdout",
     "output_type": "stream",
     "text": [
      "<class 'pandas.core.frame.DataFrame'>\n",
      "RangeIndex: 17771 entries, 0 to 17770\n",
      "Data columns (total 8 columns):\n",
      " #   Column               Non-Null Count  Dtype  \n",
      "---  ------               --------------  -----  \n",
      " 0   Agency Name          17771 non-null  object \n",
      " 1   EEO-4 Job Category   17771 non-null  object \n",
      " 2   Pay Band             17771 non-null  float64\n",
      " 3   Employee Status      17771 non-null  object \n",
      " 4   Race                 17771 non-null  object \n",
      " 5   Ethnicity            17771 non-null  object \n",
      " 6   Gender               17771 non-null  object \n",
      " 7   Number of Employees  17771 non-null  object \n",
      "dtypes: float64(1), object(7)\n",
      "memory usage: 1.1+ MB\n"
     ]
    }
   ],
   "source": [
    "df.info()"
   ]
  },
  {
   "cell_type": "markdown",
   "id": "e2fc1240",
   "metadata": {},
   "source": [
    "## Filtering Data set to just focus on Full-time workers and Job Groups with >5 employees"
   ]
  },
  {
   "cell_type": "code",
   "execution_count": 85,
   "id": "1037c7fe",
   "metadata": {},
   "outputs": [],
   "source": [
    "df1= df[df['Employee Status']==('Full-Time')]"
   ]
  },
  {
   "cell_type": "code",
   "execution_count": 86,
   "id": "612573bd",
   "metadata": {},
   "outputs": [
    {
     "data": {
      "text/html": [
       "<div>\n",
       "<style scoped>\n",
       "    .dataframe tbody tr th:only-of-type {\n",
       "        vertical-align: middle;\n",
       "    }\n",
       "\n",
       "    .dataframe tbody tr th {\n",
       "        vertical-align: top;\n",
       "    }\n",
       "\n",
       "    .dataframe thead th {\n",
       "        text-align: right;\n",
       "    }\n",
       "</style>\n",
       "<table border=\"1\" class=\"dataframe\">\n",
       "  <thead>\n",
       "    <tr style=\"text-align: right;\">\n",
       "      <th></th>\n",
       "      <th>Agency Name</th>\n",
       "      <th>EEO-4 Job Category</th>\n",
       "      <th>Pay Band</th>\n",
       "      <th>Employee Status</th>\n",
       "      <th>Race</th>\n",
       "      <th>Ethnicity</th>\n",
       "      <th>Gender</th>\n",
       "      <th>Number of Employees</th>\n",
       "    </tr>\n",
       "  </thead>\n",
       "  <tbody>\n",
       "    <tr>\n",
       "      <th>0</th>\n",
       "      <td>DEPARTMENT OF BUILDINGS</td>\n",
       "      <td>PROFESSIONALS</td>\n",
       "      <td>65000.0</td>\n",
       "      <td>Full-Time</td>\n",
       "      <td>White</td>\n",
       "      <td>Hispanic or Latino</td>\n",
       "      <td>Male</td>\n",
       "      <td>&lt;5</td>\n",
       "    </tr>\n",
       "    <tr>\n",
       "      <th>1</th>\n",
       "      <td>DEPARTMENT OF BUILDINGS</td>\n",
       "      <td>PROFESSIONALS</td>\n",
       "      <td>65000.0</td>\n",
       "      <td>Full-Time</td>\n",
       "      <td>White</td>\n",
       "      <td>Non-Hispanic or Latino</td>\n",
       "      <td>Female</td>\n",
       "      <td>26</td>\n",
       "    </tr>\n",
       "    <tr>\n",
       "      <th>2</th>\n",
       "      <td>DEPARTMENT OF BUILDINGS</td>\n",
       "      <td>PROFESSIONALS</td>\n",
       "      <td>65000.0</td>\n",
       "      <td>Full-Time</td>\n",
       "      <td>White</td>\n",
       "      <td>Non-Hispanic or Latino</td>\n",
       "      <td>Male</td>\n",
       "      <td>61</td>\n",
       "    </tr>\n",
       "    <tr>\n",
       "      <th>3</th>\n",
       "      <td>FIRE DEPARTMENT</td>\n",
       "      <td>TECHNICIANS</td>\n",
       "      <td>50000.0</td>\n",
       "      <td>Full-Time</td>\n",
       "      <td>White</td>\n",
       "      <td>Non-Hispanic or Latino</td>\n",
       "      <td>Female</td>\n",
       "      <td>88</td>\n",
       "    </tr>\n",
       "    <tr>\n",
       "      <th>4</th>\n",
       "      <td>FIRE DEPARTMENT</td>\n",
       "      <td>TECHNICIANS</td>\n",
       "      <td>50000.0</td>\n",
       "      <td>Full-Time</td>\n",
       "      <td>White</td>\n",
       "      <td>Non-Hispanic or Latino</td>\n",
       "      <td>Male</td>\n",
       "      <td>283</td>\n",
       "    </tr>\n",
       "    <tr>\n",
       "      <th>...</th>\n",
       "      <td>...</td>\n",
       "      <td>...</td>\n",
       "      <td>...</td>\n",
       "      <td>...</td>\n",
       "      <td>...</td>\n",
       "      <td>...</td>\n",
       "      <td>...</td>\n",
       "      <td>...</td>\n",
       "    </tr>\n",
       "    <tr>\n",
       "      <th>15972</th>\n",
       "      <td>POLICE DEPARTMENT</td>\n",
       "      <td>TECHNICIANS</td>\n",
       "      <td>60000.0</td>\n",
       "      <td>Full-Time</td>\n",
       "      <td>White</td>\n",
       "      <td>Non-Hispanic or Latino</td>\n",
       "      <td>Female</td>\n",
       "      <td>&lt;5</td>\n",
       "    </tr>\n",
       "    <tr>\n",
       "      <th>15973</th>\n",
       "      <td>POLICE DEPARTMENT</td>\n",
       "      <td>TECHNICIANS</td>\n",
       "      <td>65000.0</td>\n",
       "      <td>Full-Time</td>\n",
       "      <td>Black or African American</td>\n",
       "      <td>Non-Hispanic or Latino</td>\n",
       "      <td>Female</td>\n",
       "      <td>&lt;5</td>\n",
       "    </tr>\n",
       "    <tr>\n",
       "      <th>15974</th>\n",
       "      <td>POLICE DEPARTMENT</td>\n",
       "      <td>TECHNICIANS</td>\n",
       "      <td>65000.0</td>\n",
       "      <td>Full-Time</td>\n",
       "      <td>Black or African American</td>\n",
       "      <td>Non-Hispanic or Latino</td>\n",
       "      <td>Male</td>\n",
       "      <td>&lt;5</td>\n",
       "    </tr>\n",
       "    <tr>\n",
       "      <th>15975</th>\n",
       "      <td>POLICE DEPARTMENT</td>\n",
       "      <td>TECHNICIANS</td>\n",
       "      <td>70000.0</td>\n",
       "      <td>Full-Time</td>\n",
       "      <td>Black or African American</td>\n",
       "      <td>Non-Hispanic or Latino</td>\n",
       "      <td>Female</td>\n",
       "      <td>&lt;5</td>\n",
       "    </tr>\n",
       "    <tr>\n",
       "      <th>15976</th>\n",
       "      <td>POLICE DEPARTMENT</td>\n",
       "      <td>TECHNICIANS</td>\n",
       "      <td>95000.0</td>\n",
       "      <td>Full-Time</td>\n",
       "      <td>Black or African American</td>\n",
       "      <td>Non-Hispanic or Latino</td>\n",
       "      <td>Female</td>\n",
       "      <td>&lt;5</td>\n",
       "    </tr>\n",
       "  </tbody>\n",
       "</table>\n",
       "<p>15966 rows × 8 columns</p>\n",
       "</div>"
      ],
      "text/plain": [
       "                   Agency Name EEO-4 Job Category  Pay Band Employee Status  \\\n",
       "0      DEPARTMENT OF BUILDINGS      PROFESSIONALS   65000.0       Full-Time   \n",
       "1      DEPARTMENT OF BUILDINGS      PROFESSIONALS   65000.0       Full-Time   \n",
       "2      DEPARTMENT OF BUILDINGS      PROFESSIONALS   65000.0       Full-Time   \n",
       "3              FIRE DEPARTMENT        TECHNICIANS   50000.0       Full-Time   \n",
       "4              FIRE DEPARTMENT        TECHNICIANS   50000.0       Full-Time   \n",
       "...                        ...                ...       ...             ...   \n",
       "15972        POLICE DEPARTMENT        TECHNICIANS   60000.0       Full-Time   \n",
       "15973        POLICE DEPARTMENT        TECHNICIANS   65000.0       Full-Time   \n",
       "15974        POLICE DEPARTMENT        TECHNICIANS   65000.0       Full-Time   \n",
       "15975        POLICE DEPARTMENT        TECHNICIANS   70000.0       Full-Time   \n",
       "15976        POLICE DEPARTMENT        TECHNICIANS   95000.0       Full-Time   \n",
       "\n",
       "                            Race               Ethnicity  Gender  \\\n",
       "0                          White      Hispanic or Latino    Male   \n",
       "1                          White  Non-Hispanic or Latino  Female   \n",
       "2                          White  Non-Hispanic or Latino    Male   \n",
       "3                          White  Non-Hispanic or Latino  Female   \n",
       "4                          White  Non-Hispanic or Latino    Male   \n",
       "...                          ...                     ...     ...   \n",
       "15972                      White  Non-Hispanic or Latino  Female   \n",
       "15973  Black or African American  Non-Hispanic or Latino  Female   \n",
       "15974  Black or African American  Non-Hispanic or Latino    Male   \n",
       "15975  Black or African American  Non-Hispanic or Latino  Female   \n",
       "15976  Black or African American  Non-Hispanic or Latino  Female   \n",
       "\n",
       "      Number of Employees  \n",
       "0                      <5  \n",
       "1                      26  \n",
       "2                      61  \n",
       "3                      88  \n",
       "4                     283  \n",
       "...                   ...  \n",
       "15972                  <5  \n",
       "15973                  <5  \n",
       "15974                  <5  \n",
       "15975                  <5  \n",
       "15976                  <5  \n",
       "\n",
       "[15966 rows x 8 columns]"
      ]
     },
     "execution_count": 86,
     "metadata": {},
     "output_type": "execute_result"
    }
   ],
   "source": [
    "df1"
   ]
  },
  {
   "cell_type": "code",
   "execution_count": 87,
   "id": "db29ad69",
   "metadata": {},
   "outputs": [],
   "source": [
    "small_no = df1[df1['Number of Employees'] == '<5' ].index"
   ]
  },
  {
   "cell_type": "code",
   "execution_count": 88,
   "id": "4d270793",
   "metadata": {},
   "outputs": [
    {
     "data": {
      "text/html": [
       "<div>\n",
       "<style scoped>\n",
       "    .dataframe tbody tr th:only-of-type {\n",
       "        vertical-align: middle;\n",
       "    }\n",
       "\n",
       "    .dataframe tbody tr th {\n",
       "        vertical-align: top;\n",
       "    }\n",
       "\n",
       "    .dataframe thead th {\n",
       "        text-align: right;\n",
       "    }\n",
       "</style>\n",
       "<table border=\"1\" class=\"dataframe\">\n",
       "  <thead>\n",
       "    <tr style=\"text-align: right;\">\n",
       "      <th></th>\n",
       "      <th>Agency Name</th>\n",
       "      <th>EEO-4 Job Category</th>\n",
       "      <th>Pay Band</th>\n",
       "      <th>Employee Status</th>\n",
       "      <th>Race</th>\n",
       "      <th>Ethnicity</th>\n",
       "      <th>Gender</th>\n",
       "      <th>Number of Employees</th>\n",
       "    </tr>\n",
       "  </thead>\n",
       "  <tbody>\n",
       "    <tr>\n",
       "      <th>0</th>\n",
       "      <td>DEPARTMENT OF BUILDINGS</td>\n",
       "      <td>PROFESSIONALS</td>\n",
       "      <td>65000.0</td>\n",
       "      <td>Full-Time</td>\n",
       "      <td>White</td>\n",
       "      <td>Hispanic or Latino</td>\n",
       "      <td>Male</td>\n",
       "      <td>&lt;5</td>\n",
       "    </tr>\n",
       "    <tr>\n",
       "      <th>1</th>\n",
       "      <td>DEPARTMENT OF BUILDINGS</td>\n",
       "      <td>PROFESSIONALS</td>\n",
       "      <td>65000.0</td>\n",
       "      <td>Full-Time</td>\n",
       "      <td>White</td>\n",
       "      <td>Non-Hispanic or Latino</td>\n",
       "      <td>Female</td>\n",
       "      <td>26</td>\n",
       "    </tr>\n",
       "    <tr>\n",
       "      <th>2</th>\n",
       "      <td>DEPARTMENT OF BUILDINGS</td>\n",
       "      <td>PROFESSIONALS</td>\n",
       "      <td>65000.0</td>\n",
       "      <td>Full-Time</td>\n",
       "      <td>White</td>\n",
       "      <td>Non-Hispanic or Latino</td>\n",
       "      <td>Male</td>\n",
       "      <td>61</td>\n",
       "    </tr>\n",
       "    <tr>\n",
       "      <th>3</th>\n",
       "      <td>FIRE DEPARTMENT</td>\n",
       "      <td>TECHNICIANS</td>\n",
       "      <td>50000.0</td>\n",
       "      <td>Full-Time</td>\n",
       "      <td>White</td>\n",
       "      <td>Non-Hispanic or Latino</td>\n",
       "      <td>Female</td>\n",
       "      <td>88</td>\n",
       "    </tr>\n",
       "    <tr>\n",
       "      <th>4</th>\n",
       "      <td>FIRE DEPARTMENT</td>\n",
       "      <td>TECHNICIANS</td>\n",
       "      <td>50000.0</td>\n",
       "      <td>Full-Time</td>\n",
       "      <td>White</td>\n",
       "      <td>Non-Hispanic or Latino</td>\n",
       "      <td>Male</td>\n",
       "      <td>283</td>\n",
       "    </tr>\n",
       "    <tr>\n",
       "      <th>...</th>\n",
       "      <td>...</td>\n",
       "      <td>...</td>\n",
       "      <td>...</td>\n",
       "      <td>...</td>\n",
       "      <td>...</td>\n",
       "      <td>...</td>\n",
       "      <td>...</td>\n",
       "      <td>...</td>\n",
       "    </tr>\n",
       "    <tr>\n",
       "      <th>15972</th>\n",
       "      <td>POLICE DEPARTMENT</td>\n",
       "      <td>TECHNICIANS</td>\n",
       "      <td>60000.0</td>\n",
       "      <td>Full-Time</td>\n",
       "      <td>White</td>\n",
       "      <td>Non-Hispanic or Latino</td>\n",
       "      <td>Female</td>\n",
       "      <td>&lt;5</td>\n",
       "    </tr>\n",
       "    <tr>\n",
       "      <th>15973</th>\n",
       "      <td>POLICE DEPARTMENT</td>\n",
       "      <td>TECHNICIANS</td>\n",
       "      <td>65000.0</td>\n",
       "      <td>Full-Time</td>\n",
       "      <td>Black or African American</td>\n",
       "      <td>Non-Hispanic or Latino</td>\n",
       "      <td>Female</td>\n",
       "      <td>&lt;5</td>\n",
       "    </tr>\n",
       "    <tr>\n",
       "      <th>15974</th>\n",
       "      <td>POLICE DEPARTMENT</td>\n",
       "      <td>TECHNICIANS</td>\n",
       "      <td>65000.0</td>\n",
       "      <td>Full-Time</td>\n",
       "      <td>Black or African American</td>\n",
       "      <td>Non-Hispanic or Latino</td>\n",
       "      <td>Male</td>\n",
       "      <td>&lt;5</td>\n",
       "    </tr>\n",
       "    <tr>\n",
       "      <th>15975</th>\n",
       "      <td>POLICE DEPARTMENT</td>\n",
       "      <td>TECHNICIANS</td>\n",
       "      <td>70000.0</td>\n",
       "      <td>Full-Time</td>\n",
       "      <td>Black or African American</td>\n",
       "      <td>Non-Hispanic or Latino</td>\n",
       "      <td>Female</td>\n",
       "      <td>&lt;5</td>\n",
       "    </tr>\n",
       "    <tr>\n",
       "      <th>15976</th>\n",
       "      <td>POLICE DEPARTMENT</td>\n",
       "      <td>TECHNICIANS</td>\n",
       "      <td>95000.0</td>\n",
       "      <td>Full-Time</td>\n",
       "      <td>Black or African American</td>\n",
       "      <td>Non-Hispanic or Latino</td>\n",
       "      <td>Female</td>\n",
       "      <td>&lt;5</td>\n",
       "    </tr>\n",
       "  </tbody>\n",
       "</table>\n",
       "<p>15966 rows × 8 columns</p>\n",
       "</div>"
      ],
      "text/plain": [
       "                   Agency Name EEO-4 Job Category  Pay Band Employee Status  \\\n",
       "0      DEPARTMENT OF BUILDINGS      PROFESSIONALS   65000.0       Full-Time   \n",
       "1      DEPARTMENT OF BUILDINGS      PROFESSIONALS   65000.0       Full-Time   \n",
       "2      DEPARTMENT OF BUILDINGS      PROFESSIONALS   65000.0       Full-Time   \n",
       "3              FIRE DEPARTMENT        TECHNICIANS   50000.0       Full-Time   \n",
       "4              FIRE DEPARTMENT        TECHNICIANS   50000.0       Full-Time   \n",
       "...                        ...                ...       ...             ...   \n",
       "15972        POLICE DEPARTMENT        TECHNICIANS   60000.0       Full-Time   \n",
       "15973        POLICE DEPARTMENT        TECHNICIANS   65000.0       Full-Time   \n",
       "15974        POLICE DEPARTMENT        TECHNICIANS   65000.0       Full-Time   \n",
       "15975        POLICE DEPARTMENT        TECHNICIANS   70000.0       Full-Time   \n",
       "15976        POLICE DEPARTMENT        TECHNICIANS   95000.0       Full-Time   \n",
       "\n",
       "                            Race               Ethnicity  Gender  \\\n",
       "0                          White      Hispanic or Latino    Male   \n",
       "1                          White  Non-Hispanic or Latino  Female   \n",
       "2                          White  Non-Hispanic or Latino    Male   \n",
       "3                          White  Non-Hispanic or Latino  Female   \n",
       "4                          White  Non-Hispanic or Latino    Male   \n",
       "...                          ...                     ...     ...   \n",
       "15972                      White  Non-Hispanic or Latino  Female   \n",
       "15973  Black or African American  Non-Hispanic or Latino  Female   \n",
       "15974  Black or African American  Non-Hispanic or Latino    Male   \n",
       "15975  Black or African American  Non-Hispanic or Latino  Female   \n",
       "15976  Black or African American  Non-Hispanic or Latino  Female   \n",
       "\n",
       "      Number of Employees  \n",
       "0                      <5  \n",
       "1                      26  \n",
       "2                      61  \n",
       "3                      88  \n",
       "4                     283  \n",
       "...                   ...  \n",
       "15972                  <5  \n",
       "15973                  <5  \n",
       "15974                  <5  \n",
       "15975                  <5  \n",
       "15976                  <5  \n",
       "\n",
       "[15966 rows x 8 columns]"
      ]
     },
     "execution_count": 88,
     "metadata": {},
     "output_type": "execute_result"
    }
   ],
   "source": [
    "df1"
   ]
  },
  {
   "cell_type": "code",
   "execution_count": 89,
   "id": "682bab8a",
   "metadata": {},
   "outputs": [
    {
     "name": "stderr",
     "output_type": "stream",
     "text": [
      "C:\\Users\\prati\\anaconda3\\lib\\site-packages\\pandas\\core\\frame.py:4308: SettingWithCopyWarning: \n",
      "A value is trying to be set on a copy of a slice from a DataFrame\n",
      "\n",
      "See the caveats in the documentation: https://pandas.pydata.org/pandas-docs/stable/user_guide/indexing.html#returning-a-view-versus-a-copy\n",
      "  return super().drop(\n"
     ]
    }
   ],
   "source": [
    "df1.drop(small_no, inplace = True)"
   ]
  },
  {
   "cell_type": "code",
   "execution_count": 90,
   "id": "4ef55d8c",
   "metadata": {},
   "outputs": [
    {
     "data": {
      "text/html": [
       "<div>\n",
       "<style scoped>\n",
       "    .dataframe tbody tr th:only-of-type {\n",
       "        vertical-align: middle;\n",
       "    }\n",
       "\n",
       "    .dataframe tbody tr th {\n",
       "        vertical-align: top;\n",
       "    }\n",
       "\n",
       "    .dataframe thead th {\n",
       "        text-align: right;\n",
       "    }\n",
       "</style>\n",
       "<table border=\"1\" class=\"dataframe\">\n",
       "  <thead>\n",
       "    <tr style=\"text-align: right;\">\n",
       "      <th></th>\n",
       "      <th>Agency Name</th>\n",
       "      <th>EEO-4 Job Category</th>\n",
       "      <th>Pay Band</th>\n",
       "      <th>Employee Status</th>\n",
       "      <th>Race</th>\n",
       "      <th>Ethnicity</th>\n",
       "      <th>Gender</th>\n",
       "      <th>Number of Employees</th>\n",
       "    </tr>\n",
       "  </thead>\n",
       "  <tbody>\n",
       "    <tr>\n",
       "      <th>1</th>\n",
       "      <td>DEPARTMENT OF BUILDINGS</td>\n",
       "      <td>PROFESSIONALS</td>\n",
       "      <td>65000.0</td>\n",
       "      <td>Full-Time</td>\n",
       "      <td>White</td>\n",
       "      <td>Non-Hispanic or Latino</td>\n",
       "      <td>Female</td>\n",
       "      <td>26</td>\n",
       "    </tr>\n",
       "    <tr>\n",
       "      <th>2</th>\n",
       "      <td>DEPARTMENT OF BUILDINGS</td>\n",
       "      <td>PROFESSIONALS</td>\n",
       "      <td>65000.0</td>\n",
       "      <td>Full-Time</td>\n",
       "      <td>White</td>\n",
       "      <td>Non-Hispanic or Latino</td>\n",
       "      <td>Male</td>\n",
       "      <td>61</td>\n",
       "    </tr>\n",
       "    <tr>\n",
       "      <th>3</th>\n",
       "      <td>FIRE DEPARTMENT</td>\n",
       "      <td>TECHNICIANS</td>\n",
       "      <td>50000.0</td>\n",
       "      <td>Full-Time</td>\n",
       "      <td>White</td>\n",
       "      <td>Non-Hispanic or Latino</td>\n",
       "      <td>Female</td>\n",
       "      <td>88</td>\n",
       "    </tr>\n",
       "    <tr>\n",
       "      <th>4</th>\n",
       "      <td>FIRE DEPARTMENT</td>\n",
       "      <td>TECHNICIANS</td>\n",
       "      <td>50000.0</td>\n",
       "      <td>Full-Time</td>\n",
       "      <td>White</td>\n",
       "      <td>Non-Hispanic or Latino</td>\n",
       "      <td>Male</td>\n",
       "      <td>283</td>\n",
       "    </tr>\n",
       "    <tr>\n",
       "      <th>5</th>\n",
       "      <td>FIRE DEPARTMENT</td>\n",
       "      <td>TECHNICIANS</td>\n",
       "      <td>70000.0</td>\n",
       "      <td>Full-Time</td>\n",
       "      <td>White</td>\n",
       "      <td>Non-Hispanic or Latino</td>\n",
       "      <td>Female</td>\n",
       "      <td>38</td>\n",
       "    </tr>\n",
       "    <tr>\n",
       "      <th>...</th>\n",
       "      <td>...</td>\n",
       "      <td>...</td>\n",
       "      <td>...</td>\n",
       "      <td>...</td>\n",
       "      <td>...</td>\n",
       "      <td>...</td>\n",
       "      <td>...</td>\n",
       "      <td>...</td>\n",
       "    </tr>\n",
       "    <tr>\n",
       "      <th>15938</th>\n",
       "      <td>POLICE DEPARTMENT</td>\n",
       "      <td>TECHNICIANS</td>\n",
       "      <td>40000.0</td>\n",
       "      <td>Full-Time</td>\n",
       "      <td>Black or African American</td>\n",
       "      <td>Non-Hispanic or Latino</td>\n",
       "      <td>Female</td>\n",
       "      <td>15</td>\n",
       "    </tr>\n",
       "    <tr>\n",
       "      <th>15947</th>\n",
       "      <td>POLICE DEPARTMENT</td>\n",
       "      <td>TECHNICIANS</td>\n",
       "      <td>45000.0</td>\n",
       "      <td>Full-Time</td>\n",
       "      <td>Black or African American</td>\n",
       "      <td>Non-Hispanic or Latino</td>\n",
       "      <td>Female</td>\n",
       "      <td>12</td>\n",
       "    </tr>\n",
       "    <tr>\n",
       "      <th>15955</th>\n",
       "      <td>POLICE DEPARTMENT</td>\n",
       "      <td>TECHNICIANS</td>\n",
       "      <td>50000.0</td>\n",
       "      <td>Full-Time</td>\n",
       "      <td>Black or African American</td>\n",
       "      <td>Non-Hispanic or Latino</td>\n",
       "      <td>Female</td>\n",
       "      <td>15</td>\n",
       "    </tr>\n",
       "    <tr>\n",
       "      <th>15962</th>\n",
       "      <td>POLICE DEPARTMENT</td>\n",
       "      <td>TECHNICIANS</td>\n",
       "      <td>55000.0</td>\n",
       "      <td>Full-Time</td>\n",
       "      <td>Black or African American</td>\n",
       "      <td>Non-Hispanic or Latino</td>\n",
       "      <td>Female</td>\n",
       "      <td>13</td>\n",
       "    </tr>\n",
       "    <tr>\n",
       "      <th>15967</th>\n",
       "      <td>POLICE DEPARTMENT</td>\n",
       "      <td>TECHNICIANS</td>\n",
       "      <td>60000.0</td>\n",
       "      <td>Full-Time</td>\n",
       "      <td>Black or African American</td>\n",
       "      <td>Non-Hispanic or Latino</td>\n",
       "      <td>Female</td>\n",
       "      <td>14</td>\n",
       "    </tr>\n",
       "  </tbody>\n",
       "</table>\n",
       "<p>3892 rows × 8 columns</p>\n",
       "</div>"
      ],
      "text/plain": [
       "                   Agency Name EEO-4 Job Category  Pay Band Employee Status  \\\n",
       "1      DEPARTMENT OF BUILDINGS      PROFESSIONALS   65000.0       Full-Time   \n",
       "2      DEPARTMENT OF BUILDINGS      PROFESSIONALS   65000.0       Full-Time   \n",
       "3              FIRE DEPARTMENT        TECHNICIANS   50000.0       Full-Time   \n",
       "4              FIRE DEPARTMENT        TECHNICIANS   50000.0       Full-Time   \n",
       "5              FIRE DEPARTMENT        TECHNICIANS   70000.0       Full-Time   \n",
       "...                        ...                ...       ...             ...   \n",
       "15938        POLICE DEPARTMENT        TECHNICIANS   40000.0       Full-Time   \n",
       "15947        POLICE DEPARTMENT        TECHNICIANS   45000.0       Full-Time   \n",
       "15955        POLICE DEPARTMENT        TECHNICIANS   50000.0       Full-Time   \n",
       "15962        POLICE DEPARTMENT        TECHNICIANS   55000.0       Full-Time   \n",
       "15967        POLICE DEPARTMENT        TECHNICIANS   60000.0       Full-Time   \n",
       "\n",
       "                            Race               Ethnicity  Gender  \\\n",
       "1                          White  Non-Hispanic or Latino  Female   \n",
       "2                          White  Non-Hispanic or Latino    Male   \n",
       "3                          White  Non-Hispanic or Latino  Female   \n",
       "4                          White  Non-Hispanic or Latino    Male   \n",
       "5                          White  Non-Hispanic or Latino  Female   \n",
       "...                          ...                     ...     ...   \n",
       "15938  Black or African American  Non-Hispanic or Latino  Female   \n",
       "15947  Black or African American  Non-Hispanic or Latino  Female   \n",
       "15955  Black or African American  Non-Hispanic or Latino  Female   \n",
       "15962  Black or African American  Non-Hispanic or Latino  Female   \n",
       "15967  Black or African American  Non-Hispanic or Latino  Female   \n",
       "\n",
       "      Number of Employees  \n",
       "1                      26  \n",
       "2                      61  \n",
       "3                      88  \n",
       "4                     283  \n",
       "5                      38  \n",
       "...                   ...  \n",
       "15938                  15  \n",
       "15947                  12  \n",
       "15955                  15  \n",
       "15962                  13  \n",
       "15967                  14  \n",
       "\n",
       "[3892 rows x 8 columns]"
      ]
     },
     "execution_count": 90,
     "metadata": {},
     "output_type": "execute_result"
    }
   ],
   "source": [
    "df1"
   ]
  },
  {
   "cell_type": "code",
   "execution_count": 91,
   "id": "eb9e894c",
   "metadata": {},
   "outputs": [
    {
     "name": "stdout",
     "output_type": "stream",
     "text": [
      "<class 'pandas.core.frame.DataFrame'>\n",
      "Int64Index: 3892 entries, 1 to 15967\n",
      "Data columns (total 8 columns):\n",
      " #   Column               Non-Null Count  Dtype  \n",
      "---  ------               --------------  -----  \n",
      " 0   Agency Name          3892 non-null   object \n",
      " 1   EEO-4 Job Category   3892 non-null   object \n",
      " 2   Pay Band             3892 non-null   float64\n",
      " 3   Employee Status      3892 non-null   object \n",
      " 4   Race                 3892 non-null   object \n",
      " 5   Ethnicity            3892 non-null   object \n",
      " 6   Gender               3892 non-null   object \n",
      " 7   Number of Employees  3892 non-null   object \n",
      "dtypes: float64(1), object(7)\n",
      "memory usage: 273.7+ KB\n"
     ]
    }
   ],
   "source": [
    "df1.info()"
   ]
  },
  {
   "cell_type": "markdown",
   "id": "e38b5b71",
   "metadata": {},
   "source": [
    "## Renaming Columns "
   ]
  },
  {
   "cell_type": "code",
   "execution_count": 92,
   "id": "7ca82bb1",
   "metadata": {
    "scrolled": true
   },
   "outputs": [
    {
     "name": "stderr",
     "output_type": "stream",
     "text": [
      "C:\\Users\\prati\\anaconda3\\lib\\site-packages\\pandas\\core\\frame.py:4441: SettingWithCopyWarning: \n",
      "A value is trying to be set on a copy of a slice from a DataFrame\n",
      "\n",
      "See the caveats in the documentation: https://pandas.pydata.org/pandas-docs/stable/user_guide/indexing.html#returning-a-view-versus-a-copy\n",
      "  return super().rename(\n"
     ]
    }
   ],
   "source": [
    "df1.rename(columns={'Agency Name': 'Agency', 'Pay Band':'Pay', 'EEO-4 Job Category':'Job Group'}, inplace = True)"
   ]
  },
  {
   "cell_type": "code",
   "execution_count": 96,
   "id": "35b8f10c",
   "metadata": {
    "scrolled": false
   },
   "outputs": [
    {
     "data": {
      "text/html": [
       "<div>\n",
       "<style scoped>\n",
       "    .dataframe tbody tr th:only-of-type {\n",
       "        vertical-align: middle;\n",
       "    }\n",
       "\n",
       "    .dataframe tbody tr th {\n",
       "        vertical-align: top;\n",
       "    }\n",
       "\n",
       "    .dataframe thead th {\n",
       "        text-align: right;\n",
       "    }\n",
       "</style>\n",
       "<table border=\"1\" class=\"dataframe\">\n",
       "  <thead>\n",
       "    <tr style=\"text-align: right;\">\n",
       "      <th></th>\n",
       "      <th>Agency</th>\n",
       "      <th>Job Group</th>\n",
       "      <th>Pay</th>\n",
       "      <th>Employee Status</th>\n",
       "      <th>Race</th>\n",
       "      <th>Ethnicity</th>\n",
       "      <th>Gender</th>\n",
       "      <th>Number of Employees</th>\n",
       "    </tr>\n",
       "  </thead>\n",
       "  <tbody>\n",
       "    <tr>\n",
       "      <th>1</th>\n",
       "      <td>DEPARTMENT OF BUILDINGS</td>\n",
       "      <td>PROFESSIONALS</td>\n",
       "      <td>65000.0</td>\n",
       "      <td>Full-Time</td>\n",
       "      <td>White</td>\n",
       "      <td>Non-Hispanic or Latino</td>\n",
       "      <td>Female</td>\n",
       "      <td>26</td>\n",
       "    </tr>\n",
       "    <tr>\n",
       "      <th>2</th>\n",
       "      <td>DEPARTMENT OF BUILDINGS</td>\n",
       "      <td>PROFESSIONALS</td>\n",
       "      <td>65000.0</td>\n",
       "      <td>Full-Time</td>\n",
       "      <td>White</td>\n",
       "      <td>Non-Hispanic or Latino</td>\n",
       "      <td>Male</td>\n",
       "      <td>61</td>\n",
       "    </tr>\n",
       "    <tr>\n",
       "      <th>3</th>\n",
       "      <td>FIRE DEPARTMENT</td>\n",
       "      <td>TECHNICIANS</td>\n",
       "      <td>50000.0</td>\n",
       "      <td>Full-Time</td>\n",
       "      <td>White</td>\n",
       "      <td>Non-Hispanic or Latino</td>\n",
       "      <td>Female</td>\n",
       "      <td>88</td>\n",
       "    </tr>\n",
       "    <tr>\n",
       "      <th>4</th>\n",
       "      <td>FIRE DEPARTMENT</td>\n",
       "      <td>TECHNICIANS</td>\n",
       "      <td>50000.0</td>\n",
       "      <td>Full-Time</td>\n",
       "      <td>White</td>\n",
       "      <td>Non-Hispanic or Latino</td>\n",
       "      <td>Male</td>\n",
       "      <td>283</td>\n",
       "    </tr>\n",
       "    <tr>\n",
       "      <th>5</th>\n",
       "      <td>FIRE DEPARTMENT</td>\n",
       "      <td>TECHNICIANS</td>\n",
       "      <td>70000.0</td>\n",
       "      <td>Full-Time</td>\n",
       "      <td>White</td>\n",
       "      <td>Non-Hispanic or Latino</td>\n",
       "      <td>Female</td>\n",
       "      <td>38</td>\n",
       "    </tr>\n",
       "    <tr>\n",
       "      <th>...</th>\n",
       "      <td>...</td>\n",
       "      <td>...</td>\n",
       "      <td>...</td>\n",
       "      <td>...</td>\n",
       "      <td>...</td>\n",
       "      <td>...</td>\n",
       "      <td>...</td>\n",
       "      <td>...</td>\n",
       "    </tr>\n",
       "    <tr>\n",
       "      <th>15938</th>\n",
       "      <td>POLICE DEPARTMENT</td>\n",
       "      <td>TECHNICIANS</td>\n",
       "      <td>40000.0</td>\n",
       "      <td>Full-Time</td>\n",
       "      <td>Black or African American</td>\n",
       "      <td>Non-Hispanic or Latino</td>\n",
       "      <td>Female</td>\n",
       "      <td>15</td>\n",
       "    </tr>\n",
       "    <tr>\n",
       "      <th>15947</th>\n",
       "      <td>POLICE DEPARTMENT</td>\n",
       "      <td>TECHNICIANS</td>\n",
       "      <td>45000.0</td>\n",
       "      <td>Full-Time</td>\n",
       "      <td>Black or African American</td>\n",
       "      <td>Non-Hispanic or Latino</td>\n",
       "      <td>Female</td>\n",
       "      <td>12</td>\n",
       "    </tr>\n",
       "    <tr>\n",
       "      <th>15955</th>\n",
       "      <td>POLICE DEPARTMENT</td>\n",
       "      <td>TECHNICIANS</td>\n",
       "      <td>50000.0</td>\n",
       "      <td>Full-Time</td>\n",
       "      <td>Black or African American</td>\n",
       "      <td>Non-Hispanic or Latino</td>\n",
       "      <td>Female</td>\n",
       "      <td>15</td>\n",
       "    </tr>\n",
       "    <tr>\n",
       "      <th>15962</th>\n",
       "      <td>POLICE DEPARTMENT</td>\n",
       "      <td>TECHNICIANS</td>\n",
       "      <td>55000.0</td>\n",
       "      <td>Full-Time</td>\n",
       "      <td>Black or African American</td>\n",
       "      <td>Non-Hispanic or Latino</td>\n",
       "      <td>Female</td>\n",
       "      <td>13</td>\n",
       "    </tr>\n",
       "    <tr>\n",
       "      <th>15967</th>\n",
       "      <td>POLICE DEPARTMENT</td>\n",
       "      <td>TECHNICIANS</td>\n",
       "      <td>60000.0</td>\n",
       "      <td>Full-Time</td>\n",
       "      <td>Black or African American</td>\n",
       "      <td>Non-Hispanic or Latino</td>\n",
       "      <td>Female</td>\n",
       "      <td>14</td>\n",
       "    </tr>\n",
       "  </tbody>\n",
       "</table>\n",
       "<p>3892 rows × 8 columns</p>\n",
       "</div>"
      ],
      "text/plain": [
       "                        Agency      Job Group      Pay Employee Status  \\\n",
       "1      DEPARTMENT OF BUILDINGS  PROFESSIONALS  65000.0       Full-Time   \n",
       "2      DEPARTMENT OF BUILDINGS  PROFESSIONALS  65000.0       Full-Time   \n",
       "3              FIRE DEPARTMENT    TECHNICIANS  50000.0       Full-Time   \n",
       "4              FIRE DEPARTMENT    TECHNICIANS  50000.0       Full-Time   \n",
       "5              FIRE DEPARTMENT    TECHNICIANS  70000.0       Full-Time   \n",
       "...                        ...            ...      ...             ...   \n",
       "15938        POLICE DEPARTMENT    TECHNICIANS  40000.0       Full-Time   \n",
       "15947        POLICE DEPARTMENT    TECHNICIANS  45000.0       Full-Time   \n",
       "15955        POLICE DEPARTMENT    TECHNICIANS  50000.0       Full-Time   \n",
       "15962        POLICE DEPARTMENT    TECHNICIANS  55000.0       Full-Time   \n",
       "15967        POLICE DEPARTMENT    TECHNICIANS  60000.0       Full-Time   \n",
       "\n",
       "                            Race               Ethnicity  Gender  \\\n",
       "1                          White  Non-Hispanic or Latino  Female   \n",
       "2                          White  Non-Hispanic or Latino    Male   \n",
       "3                          White  Non-Hispanic or Latino  Female   \n",
       "4                          White  Non-Hispanic or Latino    Male   \n",
       "5                          White  Non-Hispanic or Latino  Female   \n",
       "...                          ...                     ...     ...   \n",
       "15938  Black or African American  Non-Hispanic or Latino  Female   \n",
       "15947  Black or African American  Non-Hispanic or Latino  Female   \n",
       "15955  Black or African American  Non-Hispanic or Latino  Female   \n",
       "15962  Black or African American  Non-Hispanic or Latino  Female   \n",
       "15967  Black or African American  Non-Hispanic or Latino  Female   \n",
       "\n",
       "      Number of Employees  \n",
       "1                      26  \n",
       "2                      61  \n",
       "3                      88  \n",
       "4                     283  \n",
       "5                      38  \n",
       "...                   ...  \n",
       "15938                  15  \n",
       "15947                  12  \n",
       "15955                  15  \n",
       "15962                  13  \n",
       "15967                  14  \n",
       "\n",
       "[3892 rows x 8 columns]"
      ]
     },
     "execution_count": 96,
     "metadata": {},
     "output_type": "execute_result"
    }
   ],
   "source": [
    "df1"
   ]
  },
  {
   "cell_type": "markdown",
   "id": "da672f49",
   "metadata": {},
   "source": [
    "### Removing 'Employee Status' Column as all employees in dataset are Full-time "
   ]
  },
  {
   "cell_type": "code",
   "execution_count": 97,
   "id": "06d2ad70",
   "metadata": {},
   "outputs": [
    {
     "name": "stderr",
     "output_type": "stream",
     "text": [
      "C:\\Users\\prati\\anaconda3\\lib\\site-packages\\pandas\\core\\frame.py:4308: SettingWithCopyWarning: \n",
      "A value is trying to be set on a copy of a slice from a DataFrame\n",
      "\n",
      "See the caveats in the documentation: https://pandas.pydata.org/pandas-docs/stable/user_guide/indexing.html#returning-a-view-versus-a-copy\n",
      "  return super().drop(\n"
     ]
    }
   ],
   "source": [
    "df1.drop(\"Employee Status\", axis=1, inplace = True)"
   ]
  },
  {
   "cell_type": "code",
   "execution_count": 98,
   "id": "b12be6b9",
   "metadata": {
    "scrolled": true
   },
   "outputs": [
    {
     "data": {
      "text/html": [
       "<div>\n",
       "<style scoped>\n",
       "    .dataframe tbody tr th:only-of-type {\n",
       "        vertical-align: middle;\n",
       "    }\n",
       "\n",
       "    .dataframe tbody tr th {\n",
       "        vertical-align: top;\n",
       "    }\n",
       "\n",
       "    .dataframe thead th {\n",
       "        text-align: right;\n",
       "    }\n",
       "</style>\n",
       "<table border=\"1\" class=\"dataframe\">\n",
       "  <thead>\n",
       "    <tr style=\"text-align: right;\">\n",
       "      <th></th>\n",
       "      <th>Agency</th>\n",
       "      <th>Job Group</th>\n",
       "      <th>Pay</th>\n",
       "      <th>Race</th>\n",
       "      <th>Ethnicity</th>\n",
       "      <th>Gender</th>\n",
       "      <th>Number of Employees</th>\n",
       "    </tr>\n",
       "  </thead>\n",
       "  <tbody>\n",
       "    <tr>\n",
       "      <th>1</th>\n",
       "      <td>DEPARTMENT OF BUILDINGS</td>\n",
       "      <td>PROFESSIONALS</td>\n",
       "      <td>65000.0</td>\n",
       "      <td>White</td>\n",
       "      <td>Non-Hispanic or Latino</td>\n",
       "      <td>Female</td>\n",
       "      <td>26</td>\n",
       "    </tr>\n",
       "    <tr>\n",
       "      <th>2</th>\n",
       "      <td>DEPARTMENT OF BUILDINGS</td>\n",
       "      <td>PROFESSIONALS</td>\n",
       "      <td>65000.0</td>\n",
       "      <td>White</td>\n",
       "      <td>Non-Hispanic or Latino</td>\n",
       "      <td>Male</td>\n",
       "      <td>61</td>\n",
       "    </tr>\n",
       "    <tr>\n",
       "      <th>3</th>\n",
       "      <td>FIRE DEPARTMENT</td>\n",
       "      <td>TECHNICIANS</td>\n",
       "      <td>50000.0</td>\n",
       "      <td>White</td>\n",
       "      <td>Non-Hispanic or Latino</td>\n",
       "      <td>Female</td>\n",
       "      <td>88</td>\n",
       "    </tr>\n",
       "    <tr>\n",
       "      <th>4</th>\n",
       "      <td>FIRE DEPARTMENT</td>\n",
       "      <td>TECHNICIANS</td>\n",
       "      <td>50000.0</td>\n",
       "      <td>White</td>\n",
       "      <td>Non-Hispanic or Latino</td>\n",
       "      <td>Male</td>\n",
       "      <td>283</td>\n",
       "    </tr>\n",
       "    <tr>\n",
       "      <th>5</th>\n",
       "      <td>FIRE DEPARTMENT</td>\n",
       "      <td>TECHNICIANS</td>\n",
       "      <td>70000.0</td>\n",
       "      <td>White</td>\n",
       "      <td>Non-Hispanic or Latino</td>\n",
       "      <td>Female</td>\n",
       "      <td>38</td>\n",
       "    </tr>\n",
       "    <tr>\n",
       "      <th>...</th>\n",
       "      <td>...</td>\n",
       "      <td>...</td>\n",
       "      <td>...</td>\n",
       "      <td>...</td>\n",
       "      <td>...</td>\n",
       "      <td>...</td>\n",
       "      <td>...</td>\n",
       "    </tr>\n",
       "    <tr>\n",
       "      <th>15938</th>\n",
       "      <td>POLICE DEPARTMENT</td>\n",
       "      <td>TECHNICIANS</td>\n",
       "      <td>40000.0</td>\n",
       "      <td>Black or African American</td>\n",
       "      <td>Non-Hispanic or Latino</td>\n",
       "      <td>Female</td>\n",
       "      <td>15</td>\n",
       "    </tr>\n",
       "    <tr>\n",
       "      <th>15947</th>\n",
       "      <td>POLICE DEPARTMENT</td>\n",
       "      <td>TECHNICIANS</td>\n",
       "      <td>45000.0</td>\n",
       "      <td>Black or African American</td>\n",
       "      <td>Non-Hispanic or Latino</td>\n",
       "      <td>Female</td>\n",
       "      <td>12</td>\n",
       "    </tr>\n",
       "    <tr>\n",
       "      <th>15955</th>\n",
       "      <td>POLICE DEPARTMENT</td>\n",
       "      <td>TECHNICIANS</td>\n",
       "      <td>50000.0</td>\n",
       "      <td>Black or African American</td>\n",
       "      <td>Non-Hispanic or Latino</td>\n",
       "      <td>Female</td>\n",
       "      <td>15</td>\n",
       "    </tr>\n",
       "    <tr>\n",
       "      <th>15962</th>\n",
       "      <td>POLICE DEPARTMENT</td>\n",
       "      <td>TECHNICIANS</td>\n",
       "      <td>55000.0</td>\n",
       "      <td>Black or African American</td>\n",
       "      <td>Non-Hispanic or Latino</td>\n",
       "      <td>Female</td>\n",
       "      <td>13</td>\n",
       "    </tr>\n",
       "    <tr>\n",
       "      <th>15967</th>\n",
       "      <td>POLICE DEPARTMENT</td>\n",
       "      <td>TECHNICIANS</td>\n",
       "      <td>60000.0</td>\n",
       "      <td>Black or African American</td>\n",
       "      <td>Non-Hispanic or Latino</td>\n",
       "      <td>Female</td>\n",
       "      <td>14</td>\n",
       "    </tr>\n",
       "  </tbody>\n",
       "</table>\n",
       "<p>3892 rows × 7 columns</p>\n",
       "</div>"
      ],
      "text/plain": [
       "                        Agency      Job Group      Pay  \\\n",
       "1      DEPARTMENT OF BUILDINGS  PROFESSIONALS  65000.0   \n",
       "2      DEPARTMENT OF BUILDINGS  PROFESSIONALS  65000.0   \n",
       "3              FIRE DEPARTMENT    TECHNICIANS  50000.0   \n",
       "4              FIRE DEPARTMENT    TECHNICIANS  50000.0   \n",
       "5              FIRE DEPARTMENT    TECHNICIANS  70000.0   \n",
       "...                        ...            ...      ...   \n",
       "15938        POLICE DEPARTMENT    TECHNICIANS  40000.0   \n",
       "15947        POLICE DEPARTMENT    TECHNICIANS  45000.0   \n",
       "15955        POLICE DEPARTMENT    TECHNICIANS  50000.0   \n",
       "15962        POLICE DEPARTMENT    TECHNICIANS  55000.0   \n",
       "15967        POLICE DEPARTMENT    TECHNICIANS  60000.0   \n",
       "\n",
       "                            Race               Ethnicity  Gender  \\\n",
       "1                          White  Non-Hispanic or Latino  Female   \n",
       "2                          White  Non-Hispanic or Latino    Male   \n",
       "3                          White  Non-Hispanic or Latino  Female   \n",
       "4                          White  Non-Hispanic or Latino    Male   \n",
       "5                          White  Non-Hispanic or Latino  Female   \n",
       "...                          ...                     ...     ...   \n",
       "15938  Black or African American  Non-Hispanic or Latino  Female   \n",
       "15947  Black or African American  Non-Hispanic or Latino  Female   \n",
       "15955  Black or African American  Non-Hispanic or Latino  Female   \n",
       "15962  Black or African American  Non-Hispanic or Latino  Female   \n",
       "15967  Black or African American  Non-Hispanic or Latino  Female   \n",
       "\n",
       "      Number of Employees  \n",
       "1                      26  \n",
       "2                      61  \n",
       "3                      88  \n",
       "4                     283  \n",
       "5                      38  \n",
       "...                   ...  \n",
       "15938                  15  \n",
       "15947                  12  \n",
       "15955                  15  \n",
       "15962                  13  \n",
       "15967                  14  \n",
       "\n",
       "[3892 rows x 7 columns]"
      ]
     },
     "execution_count": 98,
     "metadata": {},
     "output_type": "execute_result"
    }
   ],
   "source": [
    "df1"
   ]
  },
  {
   "cell_type": "code",
   "execution_count": 99,
   "id": "7e306b99",
   "metadata": {},
   "outputs": [
    {
     "name": "stdout",
     "output_type": "stream",
     "text": [
      "<class 'pandas.core.frame.DataFrame'>\n",
      "Int64Index: 3892 entries, 1 to 15967\n",
      "Data columns (total 7 columns):\n",
      " #   Column               Non-Null Count  Dtype  \n",
      "---  ------               --------------  -----  \n",
      " 0   Agency               3892 non-null   object \n",
      " 1   Job Group            3892 non-null   object \n",
      " 2   Pay                  3892 non-null   float64\n",
      " 3   Race                 3892 non-null   object \n",
      " 4   Ethnicity            3892 non-null   object \n",
      " 5   Gender               3892 non-null   object \n",
      " 6   Number of Employees  3892 non-null   object \n",
      "dtypes: float64(1), object(6)\n",
      "memory usage: 243.2+ KB\n"
     ]
    }
   ],
   "source": [
    "df1.info()"
   ]
  },
  {
   "cell_type": "markdown",
   "id": "9cabfc85",
   "metadata": {},
   "source": [
    "### Data Review"
   ]
  },
  {
   "cell_type": "code",
   "execution_count": 101,
   "id": "7aa70993",
   "metadata": {
    "scrolled": true
   },
   "outputs": [
    {
     "data": {
      "text/html": [
       "<div>\n",
       "<style scoped>\n",
       "    .dataframe tbody tr th:only-of-type {\n",
       "        vertical-align: middle;\n",
       "    }\n",
       "\n",
       "    .dataframe tbody tr th {\n",
       "        vertical-align: top;\n",
       "    }\n",
       "\n",
       "    .dataframe thead th {\n",
       "        text-align: right;\n",
       "    }\n",
       "</style>\n",
       "<table border=\"1\" class=\"dataframe\">\n",
       "  <thead>\n",
       "    <tr style=\"text-align: right;\">\n",
       "      <th></th>\n",
       "      <th>Agency</th>\n",
       "      <th>Job Group</th>\n",
       "      <th>Pay</th>\n",
       "      <th>Race</th>\n",
       "      <th>Ethnicity</th>\n",
       "      <th>Gender</th>\n",
       "      <th>Number of Employees</th>\n",
       "    </tr>\n",
       "  </thead>\n",
       "  <tbody>\n",
       "    <tr>\n",
       "      <th>1</th>\n",
       "      <td>DEPARTMENT OF BUILDINGS</td>\n",
       "      <td>PROFESSIONALS</td>\n",
       "      <td>65000.0</td>\n",
       "      <td>White</td>\n",
       "      <td>Non-Hispanic or Latino</td>\n",
       "      <td>Female</td>\n",
       "      <td>26</td>\n",
       "    </tr>\n",
       "    <tr>\n",
       "      <th>2</th>\n",
       "      <td>DEPARTMENT OF BUILDINGS</td>\n",
       "      <td>PROFESSIONALS</td>\n",
       "      <td>65000.0</td>\n",
       "      <td>White</td>\n",
       "      <td>Non-Hispanic or Latino</td>\n",
       "      <td>Male</td>\n",
       "      <td>61</td>\n",
       "    </tr>\n",
       "    <tr>\n",
       "      <th>3</th>\n",
       "      <td>FIRE DEPARTMENT</td>\n",
       "      <td>TECHNICIANS</td>\n",
       "      <td>50000.0</td>\n",
       "      <td>White</td>\n",
       "      <td>Non-Hispanic or Latino</td>\n",
       "      <td>Female</td>\n",
       "      <td>88</td>\n",
       "    </tr>\n",
       "    <tr>\n",
       "      <th>4</th>\n",
       "      <td>FIRE DEPARTMENT</td>\n",
       "      <td>TECHNICIANS</td>\n",
       "      <td>50000.0</td>\n",
       "      <td>White</td>\n",
       "      <td>Non-Hispanic or Latino</td>\n",
       "      <td>Male</td>\n",
       "      <td>283</td>\n",
       "    </tr>\n",
       "    <tr>\n",
       "      <th>5</th>\n",
       "      <td>FIRE DEPARTMENT</td>\n",
       "      <td>TECHNICIANS</td>\n",
       "      <td>70000.0</td>\n",
       "      <td>White</td>\n",
       "      <td>Non-Hispanic or Latino</td>\n",
       "      <td>Female</td>\n",
       "      <td>38</td>\n",
       "    </tr>\n",
       "    <tr>\n",
       "      <th>...</th>\n",
       "      <td>...</td>\n",
       "      <td>...</td>\n",
       "      <td>...</td>\n",
       "      <td>...</td>\n",
       "      <td>...</td>\n",
       "      <td>...</td>\n",
       "      <td>...</td>\n",
       "    </tr>\n",
       "    <tr>\n",
       "      <th>15938</th>\n",
       "      <td>POLICE DEPARTMENT</td>\n",
       "      <td>TECHNICIANS</td>\n",
       "      <td>40000.0</td>\n",
       "      <td>Black or African American</td>\n",
       "      <td>Non-Hispanic or Latino</td>\n",
       "      <td>Female</td>\n",
       "      <td>15</td>\n",
       "    </tr>\n",
       "    <tr>\n",
       "      <th>15947</th>\n",
       "      <td>POLICE DEPARTMENT</td>\n",
       "      <td>TECHNICIANS</td>\n",
       "      <td>45000.0</td>\n",
       "      <td>Black or African American</td>\n",
       "      <td>Non-Hispanic or Latino</td>\n",
       "      <td>Female</td>\n",
       "      <td>12</td>\n",
       "    </tr>\n",
       "    <tr>\n",
       "      <th>15955</th>\n",
       "      <td>POLICE DEPARTMENT</td>\n",
       "      <td>TECHNICIANS</td>\n",
       "      <td>50000.0</td>\n",
       "      <td>Black or African American</td>\n",
       "      <td>Non-Hispanic or Latino</td>\n",
       "      <td>Female</td>\n",
       "      <td>15</td>\n",
       "    </tr>\n",
       "    <tr>\n",
       "      <th>15962</th>\n",
       "      <td>POLICE DEPARTMENT</td>\n",
       "      <td>TECHNICIANS</td>\n",
       "      <td>55000.0</td>\n",
       "      <td>Black or African American</td>\n",
       "      <td>Non-Hispanic or Latino</td>\n",
       "      <td>Female</td>\n",
       "      <td>13</td>\n",
       "    </tr>\n",
       "    <tr>\n",
       "      <th>15967</th>\n",
       "      <td>POLICE DEPARTMENT</td>\n",
       "      <td>TECHNICIANS</td>\n",
       "      <td>60000.0</td>\n",
       "      <td>Black or African American</td>\n",
       "      <td>Non-Hispanic or Latino</td>\n",
       "      <td>Female</td>\n",
       "      <td>14</td>\n",
       "    </tr>\n",
       "  </tbody>\n",
       "</table>\n",
       "<p>3892 rows × 7 columns</p>\n",
       "</div>"
      ],
      "text/plain": [
       "                        Agency      Job Group      Pay  \\\n",
       "1      DEPARTMENT OF BUILDINGS  PROFESSIONALS  65000.0   \n",
       "2      DEPARTMENT OF BUILDINGS  PROFESSIONALS  65000.0   \n",
       "3              FIRE DEPARTMENT    TECHNICIANS  50000.0   \n",
       "4              FIRE DEPARTMENT    TECHNICIANS  50000.0   \n",
       "5              FIRE DEPARTMENT    TECHNICIANS  70000.0   \n",
       "...                        ...            ...      ...   \n",
       "15938        POLICE DEPARTMENT    TECHNICIANS  40000.0   \n",
       "15947        POLICE DEPARTMENT    TECHNICIANS  45000.0   \n",
       "15955        POLICE DEPARTMENT    TECHNICIANS  50000.0   \n",
       "15962        POLICE DEPARTMENT    TECHNICIANS  55000.0   \n",
       "15967        POLICE DEPARTMENT    TECHNICIANS  60000.0   \n",
       "\n",
       "                            Race               Ethnicity  Gender  \\\n",
       "1                          White  Non-Hispanic or Latino  Female   \n",
       "2                          White  Non-Hispanic or Latino    Male   \n",
       "3                          White  Non-Hispanic or Latino  Female   \n",
       "4                          White  Non-Hispanic or Latino    Male   \n",
       "5                          White  Non-Hispanic or Latino  Female   \n",
       "...                          ...                     ...     ...   \n",
       "15938  Black or African American  Non-Hispanic or Latino  Female   \n",
       "15947  Black or African American  Non-Hispanic or Latino  Female   \n",
       "15955  Black or African American  Non-Hispanic or Latino  Female   \n",
       "15962  Black or African American  Non-Hispanic or Latino  Female   \n",
       "15967  Black or African American  Non-Hispanic or Latino  Female   \n",
       "\n",
       "      Number of Employees  \n",
       "1                      26  \n",
       "2                      61  \n",
       "3                      88  \n",
       "4                     283  \n",
       "5                      38  \n",
       "...                   ...  \n",
       "15938                  15  \n",
       "15947                  12  \n",
       "15955                  15  \n",
       "15962                  13  \n",
       "15967                  14  \n",
       "\n",
       "[3892 rows x 7 columns]"
      ]
     },
     "execution_count": 101,
     "metadata": {},
     "output_type": "execute_result"
    }
   ],
   "source": [
    "df1"
   ]
  },
  {
   "cell_type": "code",
   "execution_count": 162,
   "id": "638ccc92",
   "metadata": {},
   "outputs": [
    {
     "data": {
      "text/html": [
       "<div>\n",
       "<style scoped>\n",
       "    .dataframe tbody tr th:only-of-type {\n",
       "        vertical-align: middle;\n",
       "    }\n",
       "\n",
       "    .dataframe tbody tr th {\n",
       "        vertical-align: top;\n",
       "    }\n",
       "\n",
       "    .dataframe thead th {\n",
       "        text-align: right;\n",
       "    }\n",
       "</style>\n",
       "<table border=\"1\" class=\"dataframe\">\n",
       "  <thead>\n",
       "    <tr style=\"text-align: right;\">\n",
       "      <th></th>\n",
       "      <th>Pay</th>\n",
       "    </tr>\n",
       "  </thead>\n",
       "  <tbody>\n",
       "    <tr>\n",
       "      <th>count</th>\n",
       "      <td>3892.000000</td>\n",
       "    </tr>\n",
       "    <tr>\n",
       "      <th>mean</th>\n",
       "      <td>70661.613566</td>\n",
       "    </tr>\n",
       "    <tr>\n",
       "      <th>std</th>\n",
       "      <td>29564.087981</td>\n",
       "    </tr>\n",
       "    <tr>\n",
       "      <th>min</th>\n",
       "      <td>25000.000000</td>\n",
       "    </tr>\n",
       "    <tr>\n",
       "      <th>25%</th>\n",
       "      <td>50000.000000</td>\n",
       "    </tr>\n",
       "    <tr>\n",
       "      <th>50%</th>\n",
       "      <td>65000.000000</td>\n",
       "    </tr>\n",
       "    <tr>\n",
       "      <th>75%</th>\n",
       "      <td>90000.000000</td>\n",
       "    </tr>\n",
       "    <tr>\n",
       "      <th>max</th>\n",
       "      <td>230000.000000</td>\n",
       "    </tr>\n",
       "  </tbody>\n",
       "</table>\n",
       "</div>"
      ],
      "text/plain": [
       "                 Pay\n",
       "count    3892.000000\n",
       "mean    70661.613566\n",
       "std     29564.087981\n",
       "min     25000.000000\n",
       "25%     50000.000000\n",
       "50%     65000.000000\n",
       "75%     90000.000000\n",
       "max    230000.000000"
      ]
     },
     "execution_count": 162,
     "metadata": {},
     "output_type": "execute_result"
    }
   ],
   "source": [
    "df1.describe()"
   ]
  },
  {
   "cell_type": "code",
   "execution_count": 164,
   "id": "d3f64dd4",
   "metadata": {},
   "outputs": [
    {
     "data": {
      "text/plain": [
       "array([[<AxesSubplot:title={'center':'Pay'}>]], dtype=object)"
      ]
     },
     "execution_count": 164,
     "metadata": {},
     "output_type": "execute_result"
    },
    {
     "data": {
      "image/png": "[encoded data removed]",
      "text/plain": [
       "<Figure size 432x288 with 1 Axes>"
      ]
     },
     "metadata": {
      "needs_background": "light"
     },
     "output_type": "display_data"
    }
   ],
   "source": [
    "df1.hist()"
   ]
  },
  {
   "cell_type": "markdown",
   "id": "005d8c4d",
   "metadata": {},
   "source": [
    "## Reviewing the data; trends by Agency, Gender, Job Group "
   ]
  },
  {
   "cell_type": "code",
   "execution_count": 105,
   "id": "7c5baa56",
   "metadata": {},
   "outputs": [
    {
     "data": {
      "text/plain": [
       "<AxesSubplot:xlabel='Pay'>"
      ]
     },
     "execution_count": 105,
     "metadata": {},
     "output_type": "execute_result"
    },
    {
     "data": {
      "image/png": "[encoded data removed]",
      "text/plain": [
       "<Figure size 432x288 with 1 Axes>"
      ]
     },
     "metadata": {
      "needs_background": "light"
     },
     "output_type": "display_data"
    }
   ],
   "source": [
    "df1.groupby([\"Pay\"])['Number of Employees'].count().plot(kind='bar')"
   ]
  },
  {
   "cell_type": "code",
   "execution_count": 106,
   "id": "a52f07ab",
   "metadata": {},
   "outputs": [
    {
     "data": {
      "text/plain": [
       "<AxesSubplot:xlabel='Job Group,Gender'>"
      ]
     },
     "execution_count": 106,
     "metadata": {},
     "output_type": "execute_result"
    },
    {
     "data": {
      "image/png": "[encoded data removed]",
      "text/plain": [
       "<Figure size 432x288 with 1 Axes>"
      ]
     },
     "metadata": {
      "needs_background": "light"
     },
     "output_type": "display_data"
    }
   ],
   "source": [
    "df1.groupby([\"Job Group\", \"Gender\"]).count().plot(kind='bar')"
   ]
  },
  {
   "cell_type": "code",
   "execution_count": 233,
   "id": "b59d0a13",
   "metadata": {},
   "outputs": [
    {
     "data": {
      "text/plain": [
       "<AxesSubplot:xlabel='Job Group'>"
      ]
     },
     "execution_count": 233,
     "metadata": {},
     "output_type": "execute_result"
    },
    {
     "data": {
      "image/png": "[encoded data removed]",
      "text/plain": [
       "<Figure size 432x288 with 1 Axes>"
      ]
     },
     "metadata": {
      "needs_background": "light"
     },
     "output_type": "display_data"
    }
   ],
   "source": [
    "df1.groupby([\"Job Group\"])[\"Gender\"].count().plot(kind='bar')"
   ]
  },
  {
   "cell_type": "code",
   "execution_count": 113,
   "id": "d691fe83",
   "metadata": {},
   "outputs": [
    {
     "data": {
      "text/plain": [
       "Pay\n",
       "25000.0       4\n",
       "30000.0      85\n",
       "35000.0     237\n",
       "40000.0     321\n",
       "45000.0     314\n",
       "50000.0     294\n",
       "55000.0     263\n",
       "60000.0     333\n",
       "65000.0     264\n",
       "70000.0     231\n",
       "75000.0     198\n",
       "80000.0     192\n",
       "85000.0     175\n",
       "90000.0     166\n",
       "95000.0     143\n",
       "100000.0    116\n",
       "105000.0    125\n",
       "110000.0     82\n",
       "115000.0     62\n",
       "120000.0     45\n",
       "125000.0     72\n",
       "130000.0     29\n",
       "135000.0     26\n",
       "140000.0     20\n",
       "145000.0     14\n",
       "150000.0     13\n",
       "155000.0     12\n",
       "160000.0     19\n",
       "165000.0      5\n",
       "170000.0      9\n",
       "175000.0      5\n",
       "180000.0      6\n",
       "185000.0      1\n",
       "190000.0      4\n",
       "195000.0      1\n",
       "210000.0      1\n",
       "215000.0      1\n",
       "220000.0      1\n",
       "225000.0      1\n",
       "230000.0      2\n",
       "Name: Number of Employees, dtype: int64"
      ]
     },
     "execution_count": 113,
     "metadata": {},
     "output_type": "execute_result"
    }
   ],
   "source": [
    "df1.groupby([\"Pay\"])['Number of Employees'].count()"
   ]
  },
  {
   "cell_type": "code",
   "execution_count": 114,
   "id": "e4c79be5",
   "metadata": {
    "scrolled": true
   },
   "outputs": [
    {
     "data": {
      "text/plain": [
       "<AxesSubplot:xlabel='Ethnicity'>"
      ]
     },
     "execution_count": 114,
     "metadata": {},
     "output_type": "execute_result"
    },
    {
     "data": {
      "image/png": "[encoded data removed]",
      "text/plain": [
       "<Figure size 432x288 with 1 Axes>"
      ]
     },
     "metadata": {
      "needs_background": "light"
     },
     "output_type": "display_data"
    }
   ],
   "source": [
    "df1.groupby([\"Ethnicity\"])['Job Group'].count().plot(kind='bar')"
   ]
  },
  {
   "cell_type": "code",
   "execution_count": 119,
   "id": "f5c9fc7f",
   "metadata": {},
   "outputs": [
    {
     "data": {
      "text/html": [
       "<div>\n",
       "<style scoped>\n",
       "    .dataframe tbody tr th:only-of-type {\n",
       "        vertical-align: middle;\n",
       "    }\n",
       "\n",
       "    .dataframe tbody tr th {\n",
       "        vertical-align: top;\n",
       "    }\n",
       "\n",
       "    .dataframe thead th {\n",
       "        text-align: right;\n",
       "    }\n",
       "</style>\n",
       "<table border=\"1\" class=\"dataframe\">\n",
       "  <thead>\n",
       "    <tr style=\"text-align: right;\">\n",
       "      <th></th>\n",
       "      <th></th>\n",
       "      <th>Job Group</th>\n",
       "      <th>Race</th>\n",
       "      <th>Ethnicity</th>\n",
       "      <th>Gender</th>\n",
       "      <th>Number of Employees</th>\n",
       "    </tr>\n",
       "    <tr>\n",
       "      <th>Pay</th>\n",
       "      <th>Agency</th>\n",
       "      <th></th>\n",
       "      <th></th>\n",
       "      <th></th>\n",
       "      <th></th>\n",
       "      <th></th>\n",
       "    </tr>\n",
       "  </thead>\n",
       "  <tbody>\n",
       "    <tr>\n",
       "      <th rowspan=\"3\" valign=\"top\">25000.0</th>\n",
       "      <th>DEPARTMENT OF TRANSPORTATION</th>\n",
       "      <td>PROFESSIONALS</td>\n",
       "      <td>Black or African American</td>\n",
       "      <td>Non-Hispanic or Latino</td>\n",
       "      <td>Male</td>\n",
       "      <td>10</td>\n",
       "    </tr>\n",
       "    <tr>\n",
       "      <th>OFFICE OF ADMINISTRATIVE TRIALS AND HEARINGS</th>\n",
       "      <td>PARA-PROFESSIONALS</td>\n",
       "      <td>Black or African American</td>\n",
       "      <td>Non-Hispanic or Latino</td>\n",
       "      <td>Female</td>\n",
       "      <td>7</td>\n",
       "    </tr>\n",
       "    <tr>\n",
       "      <th>POLICE DEPARTMENT</th>\n",
       "      <td>TECHNICIANS</td>\n",
       "      <td>Black or African American</td>\n",
       "      <td>Non-Hispanic or Latino</td>\n",
       "      <td>Female</td>\n",
       "      <td>6</td>\n",
       "    </tr>\n",
       "    <tr>\n",
       "      <th rowspan=\"2\" valign=\"top\">30000.0</th>\n",
       "      <th>DEPARTMENT OF CITYWIDE ADMINISTRATIVE SERVICES</th>\n",
       "      <td>PARA-PROFESSIONALS</td>\n",
       "      <td>Black or African American</td>\n",
       "      <td>Hispanic or Latino</td>\n",
       "      <td>Female</td>\n",
       "      <td>19</td>\n",
       "    </tr>\n",
       "    <tr>\n",
       "      <th>DEPARTMENT OF CORRECTION</th>\n",
       "      <td>SERVICE AND MAINTENANCE</td>\n",
       "      <td>Black or African American</td>\n",
       "      <td>Non-Hispanic or Latino</td>\n",
       "      <td>Male</td>\n",
       "      <td>7</td>\n",
       "    </tr>\n",
       "    <tr>\n",
       "      <th>...</th>\n",
       "      <th>...</th>\n",
       "      <td>...</td>\n",
       "      <td>...</td>\n",
       "      <td>...</td>\n",
       "      <td>...</td>\n",
       "      <td>...</td>\n",
       "    </tr>\n",
       "    <tr>\n",
       "      <th>215000.0</th>\n",
       "      <th>FIRE DEPARTMENT</th>\n",
       "      <td>OFFICIALS AND ADMINISTRATORS</td>\n",
       "      <td>White</td>\n",
       "      <td>Non-Hispanic or Latino</td>\n",
       "      <td>Male</td>\n",
       "      <td>5</td>\n",
       "    </tr>\n",
       "    <tr>\n",
       "      <th>220000.0</th>\n",
       "      <th>DEPARTMENT OF HEALTH AND MENTAL HYGIENE</th>\n",
       "      <td>PROFESSIONALS</td>\n",
       "      <td>White</td>\n",
       "      <td>Non-Hispanic or Latino</td>\n",
       "      <td>Female</td>\n",
       "      <td>12</td>\n",
       "    </tr>\n",
       "    <tr>\n",
       "      <th>225000.0</th>\n",
       "      <th>FIRE DEPARTMENT</th>\n",
       "      <td>OFFICIALS AND ADMINISTRATORS</td>\n",
       "      <td>White</td>\n",
       "      <td>Non-Hispanic or Latino</td>\n",
       "      <td>Male</td>\n",
       "      <td>10</td>\n",
       "    </tr>\n",
       "    <tr>\n",
       "      <th rowspan=\"2\" valign=\"top\">230000.0</th>\n",
       "      <th>FIRE DEPARTMENT</th>\n",
       "      <td>OFFICIALS AND ADMINISTRATORS</td>\n",
       "      <td>White</td>\n",
       "      <td>Non-Hispanic or Latino</td>\n",
       "      <td>Male</td>\n",
       "      <td>9</td>\n",
       "    </tr>\n",
       "    <tr>\n",
       "      <th>POLICE DEPARTMENT</th>\n",
       "      <td>OFFICIALS AND ADMINISTRATORS</td>\n",
       "      <td>White</td>\n",
       "      <td>Non-Hispanic or Latino</td>\n",
       "      <td>Male</td>\n",
       "      <td>31</td>\n",
       "    </tr>\n",
       "  </tbody>\n",
       "</table>\n",
       "<p>527 rows × 5 columns</p>\n",
       "</div>"
      ],
      "text/plain": [
       "                                                                            Job Group  \\\n",
       "Pay      Agency                                                                         \n",
       "25000.0  DEPARTMENT OF TRANSPORTATION                                   PROFESSIONALS   \n",
       "         OFFICE OF ADMINISTRATIVE TRIALS AND HEARINGS              PARA-PROFESSIONALS   \n",
       "         POLICE DEPARTMENT                                                TECHNICIANS   \n",
       "30000.0  DEPARTMENT OF CITYWIDE ADMINISTRATIVE SERVICES            PARA-PROFESSIONALS   \n",
       "         DEPARTMENT OF CORRECTION                             SERVICE AND MAINTENANCE   \n",
       "...                                                                               ...   \n",
       "215000.0 FIRE DEPARTMENT                                 OFFICIALS AND ADMINISTRATORS   \n",
       "220000.0 DEPARTMENT OF HEALTH AND MENTAL HYGIENE                        PROFESSIONALS   \n",
       "225000.0 FIRE DEPARTMENT                                 OFFICIALS AND ADMINISTRATORS   \n",
       "230000.0 FIRE DEPARTMENT                                 OFFICIALS AND ADMINISTRATORS   \n",
       "         POLICE DEPARTMENT                               OFFICIALS AND ADMINISTRATORS   \n",
       "\n",
       "                                                                              Race  \\\n",
       "Pay      Agency                                                                      \n",
       "25000.0  DEPARTMENT OF TRANSPORTATION                    Black or African American   \n",
       "         OFFICE OF ADMINISTRATIVE TRIALS AND HEARINGS    Black or African American   \n",
       "         POLICE DEPARTMENT                               Black or African American   \n",
       "30000.0  DEPARTMENT OF CITYWIDE ADMINISTRATIVE SERVICES  Black or African American   \n",
       "         DEPARTMENT OF CORRECTION                        Black or African American   \n",
       "...                                                                            ...   \n",
       "215000.0 FIRE DEPARTMENT                                                     White   \n",
       "220000.0 DEPARTMENT OF HEALTH AND MENTAL HYGIENE                             White   \n",
       "225000.0 FIRE DEPARTMENT                                                     White   \n",
       "230000.0 FIRE DEPARTMENT                                                     White   \n",
       "         POLICE DEPARTMENT                                                   White   \n",
       "\n",
       "                                                                      Ethnicity  \\\n",
       "Pay      Agency                                                                   \n",
       "25000.0  DEPARTMENT OF TRANSPORTATION                    Non-Hispanic or Latino   \n",
       "         OFFICE OF ADMINISTRATIVE TRIALS AND HEARINGS    Non-Hispanic or Latino   \n",
       "         POLICE DEPARTMENT                               Non-Hispanic or Latino   \n",
       "30000.0  DEPARTMENT OF CITYWIDE ADMINISTRATIVE SERVICES      Hispanic or Latino   \n",
       "         DEPARTMENT OF CORRECTION                        Non-Hispanic or Latino   \n",
       "...                                                                         ...   \n",
       "215000.0 FIRE DEPARTMENT                                 Non-Hispanic or Latino   \n",
       "220000.0 DEPARTMENT OF HEALTH AND MENTAL HYGIENE         Non-Hispanic or Latino   \n",
       "225000.0 FIRE DEPARTMENT                                 Non-Hispanic or Latino   \n",
       "230000.0 FIRE DEPARTMENT                                 Non-Hispanic or Latino   \n",
       "         POLICE DEPARTMENT                               Non-Hispanic or Latino   \n",
       "\n",
       "                                                         Gender  \\\n",
       "Pay      Agency                                                   \n",
       "25000.0  DEPARTMENT OF TRANSPORTATION                      Male   \n",
       "         OFFICE OF ADMINISTRATIVE TRIALS AND HEARINGS    Female   \n",
       "         POLICE DEPARTMENT                               Female   \n",
       "30000.0  DEPARTMENT OF CITYWIDE ADMINISTRATIVE SERVICES  Female   \n",
       "         DEPARTMENT OF CORRECTION                          Male   \n",
       "...                                                         ...   \n",
       "215000.0 FIRE DEPARTMENT                                   Male   \n",
       "220000.0 DEPARTMENT OF HEALTH AND MENTAL HYGIENE         Female   \n",
       "225000.0 FIRE DEPARTMENT                                   Male   \n",
       "230000.0 FIRE DEPARTMENT                                   Male   \n",
       "         POLICE DEPARTMENT                                 Male   \n",
       "\n",
       "                                                        Number of Employees  \n",
       "Pay      Agency                                                              \n",
       "25000.0  DEPARTMENT OF TRANSPORTATION                                    10  \n",
       "         OFFICE OF ADMINISTRATIVE TRIALS AND HEARINGS                     7  \n",
       "         POLICE DEPARTMENT                                                6  \n",
       "30000.0  DEPARTMENT OF CITYWIDE ADMINISTRATIVE SERVICES                  19  \n",
       "         DEPARTMENT OF CORRECTION                                         7  \n",
       "...                                                                     ...  \n",
       "215000.0 FIRE DEPARTMENT                                                  5  \n",
       "220000.0 DEPARTMENT OF HEALTH AND MENTAL HYGIENE                         12  \n",
       "225000.0 FIRE DEPARTMENT                                                 10  \n",
       "230000.0 FIRE DEPARTMENT                                                  9  \n",
       "         POLICE DEPARTMENT                                               31  \n",
       "\n",
       "[527 rows x 5 columns]"
      ]
     },
     "execution_count": 119,
     "metadata": {},
     "output_type": "execute_result"
    }
   ],
   "source": [
    "df1.groupby([\"Pay\", \"Agency\"]).min()"
   ]
  },
  {
   "cell_type": "code",
   "execution_count": 128,
   "id": "f06636af",
   "metadata": {
    "scrolled": true
   },
   "outputs": [
    {
     "data": {
      "text/html": [
       "<div>\n",
       "<style scoped>\n",
       "    .dataframe tbody tr th:only-of-type {\n",
       "        vertical-align: middle;\n",
       "    }\n",
       "\n",
       "    .dataframe tbody tr th {\n",
       "        vertical-align: top;\n",
       "    }\n",
       "\n",
       "    .dataframe thead th {\n",
       "        text-align: right;\n",
       "    }\n",
       "</style>\n",
       "<table border=\"1\" class=\"dataframe\">\n",
       "  <thead>\n",
       "    <tr style=\"text-align: right;\">\n",
       "      <th></th>\n",
       "      <th></th>\n",
       "      <th>Agency</th>\n",
       "      <th>Race</th>\n",
       "      <th>Ethnicity</th>\n",
       "      <th>Gender</th>\n",
       "      <th>Number of Employees</th>\n",
       "    </tr>\n",
       "    <tr>\n",
       "      <th>Pay</th>\n",
       "      <th>Job Group</th>\n",
       "      <th></th>\n",
       "      <th></th>\n",
       "      <th></th>\n",
       "      <th></th>\n",
       "      <th></th>\n",
       "    </tr>\n",
       "  </thead>\n",
       "  <tbody>\n",
       "    <tr>\n",
       "      <th rowspan=\"3\" valign=\"top\">25000.0</th>\n",
       "      <th>PARA-PROFESSIONALS</th>\n",
       "      <td>OFFICE OF ADMINISTRATIVE TRIALS AND HEARINGS</td>\n",
       "      <td>Black or African American</td>\n",
       "      <td>Non-Hispanic or Latino</td>\n",
       "      <td>Female</td>\n",
       "      <td>7</td>\n",
       "    </tr>\n",
       "    <tr>\n",
       "      <th>PROFESSIONALS</th>\n",
       "      <td>DEPARTMENT OF TRANSPORTATION</td>\n",
       "      <td>Black or African American</td>\n",
       "      <td>Non-Hispanic or Latino</td>\n",
       "      <td>Male</td>\n",
       "      <td>10</td>\n",
       "    </tr>\n",
       "    <tr>\n",
       "      <th>TECHNICIANS</th>\n",
       "      <td>POLICE DEPARTMENT</td>\n",
       "      <td>Black or African American</td>\n",
       "      <td>Non-Hispanic or Latino</td>\n",
       "      <td>Female</td>\n",
       "      <td>6</td>\n",
       "    </tr>\n",
       "    <tr>\n",
       "      <th rowspan=\"2\" valign=\"top\">30000.0</th>\n",
       "      <th>ADMINISTRATIVE SUPPORT</th>\n",
       "      <td>DEPARTMENT OF EDUCATION (NON-PEDAGOGICAL)</td>\n",
       "      <td>Black or African American</td>\n",
       "      <td>Non-Hispanic or Latino</td>\n",
       "      <td>Female</td>\n",
       "      <td>10</td>\n",
       "    </tr>\n",
       "    <tr>\n",
       "      <th>PARA-PROFESSIONALS</th>\n",
       "      <td>DEPARTMENT OF CITYWIDE ADMINISTRATIVE SERVICES</td>\n",
       "      <td>Black or African American</td>\n",
       "      <td>Hispanic or Latino</td>\n",
       "      <td>Female</td>\n",
       "      <td>10</td>\n",
       "    </tr>\n",
       "    <tr>\n",
       "      <th>...</th>\n",
       "      <th>...</th>\n",
       "      <td>...</td>\n",
       "      <td>...</td>\n",
       "      <td>...</td>\n",
       "      <td>...</td>\n",
       "      <td>...</td>\n",
       "    </tr>\n",
       "    <tr>\n",
       "      <th>210000.0</th>\n",
       "      <th>OFFICIALS AND ADMINISTRATORS</th>\n",
       "      <td>DEPARTMENT OF SANITATION</td>\n",
       "      <td>White</td>\n",
       "      <td>Non-Hispanic or Latino</td>\n",
       "      <td>Male</td>\n",
       "      <td>8</td>\n",
       "    </tr>\n",
       "    <tr>\n",
       "      <th>215000.0</th>\n",
       "      <th>OFFICIALS AND ADMINISTRATORS</th>\n",
       "      <td>FIRE DEPARTMENT</td>\n",
       "      <td>White</td>\n",
       "      <td>Non-Hispanic or Latino</td>\n",
       "      <td>Male</td>\n",
       "      <td>5</td>\n",
       "    </tr>\n",
       "    <tr>\n",
       "      <th>220000.0</th>\n",
       "      <th>PROFESSIONALS</th>\n",
       "      <td>DEPARTMENT OF HEALTH AND MENTAL HYGIENE</td>\n",
       "      <td>White</td>\n",
       "      <td>Non-Hispanic or Latino</td>\n",
       "      <td>Female</td>\n",
       "      <td>12</td>\n",
       "    </tr>\n",
       "    <tr>\n",
       "      <th>225000.0</th>\n",
       "      <th>OFFICIALS AND ADMINISTRATORS</th>\n",
       "      <td>FIRE DEPARTMENT</td>\n",
       "      <td>White</td>\n",
       "      <td>Non-Hispanic or Latino</td>\n",
       "      <td>Male</td>\n",
       "      <td>10</td>\n",
       "    </tr>\n",
       "    <tr>\n",
       "      <th>230000.0</th>\n",
       "      <th>OFFICIALS AND ADMINISTRATORS</th>\n",
       "      <td>FIRE DEPARTMENT</td>\n",
       "      <td>White</td>\n",
       "      <td>Non-Hispanic or Latino</td>\n",
       "      <td>Male</td>\n",
       "      <td>31</td>\n",
       "    </tr>\n",
       "  </tbody>\n",
       "</table>\n",
       "<p>148 rows × 5 columns</p>\n",
       "</div>"
      ],
      "text/plain": [
       "                                                                               Agency  \\\n",
       "Pay      Job Group                                                                      \n",
       "25000.0  PARA-PROFESSIONALS              OFFICE OF ADMINISTRATIVE TRIALS AND HEARINGS   \n",
       "         PROFESSIONALS                                   DEPARTMENT OF TRANSPORTATION   \n",
       "         TECHNICIANS                                                POLICE DEPARTMENT   \n",
       "30000.0  ADMINISTRATIVE SUPPORT             DEPARTMENT OF EDUCATION (NON-PEDAGOGICAL)   \n",
       "         PARA-PROFESSIONALS            DEPARTMENT OF CITYWIDE ADMINISTRATIVE SERVICES   \n",
       "...                                                                               ...   \n",
       "210000.0 OFFICIALS AND ADMINISTRATORS                        DEPARTMENT OF SANITATION   \n",
       "215000.0 OFFICIALS AND ADMINISTRATORS                                 FIRE DEPARTMENT   \n",
       "220000.0 PROFESSIONALS                        DEPARTMENT OF HEALTH AND MENTAL HYGIENE   \n",
       "225000.0 OFFICIALS AND ADMINISTRATORS                                 FIRE DEPARTMENT   \n",
       "230000.0 OFFICIALS AND ADMINISTRATORS                                 FIRE DEPARTMENT   \n",
       "\n",
       "                                                            Race  \\\n",
       "Pay      Job Group                                                 \n",
       "25000.0  PARA-PROFESSIONALS            Black or African American   \n",
       "         PROFESSIONALS                 Black or African American   \n",
       "         TECHNICIANS                   Black or African American   \n",
       "30000.0  ADMINISTRATIVE SUPPORT        Black or African American   \n",
       "         PARA-PROFESSIONALS            Black or African American   \n",
       "...                                                          ...   \n",
       "210000.0 OFFICIALS AND ADMINISTRATORS                      White   \n",
       "215000.0 OFFICIALS AND ADMINISTRATORS                      White   \n",
       "220000.0 PROFESSIONALS                                     White   \n",
       "225000.0 OFFICIALS AND ADMINISTRATORS                      White   \n",
       "230000.0 OFFICIALS AND ADMINISTRATORS                      White   \n",
       "\n",
       "                                                    Ethnicity  Gender  \\\n",
       "Pay      Job Group                                                      \n",
       "25000.0  PARA-PROFESSIONALS            Non-Hispanic or Latino  Female   \n",
       "         PROFESSIONALS                 Non-Hispanic or Latino    Male   \n",
       "         TECHNICIANS                   Non-Hispanic or Latino  Female   \n",
       "30000.0  ADMINISTRATIVE SUPPORT        Non-Hispanic or Latino  Female   \n",
       "         PARA-PROFESSIONALS                Hispanic or Latino  Female   \n",
       "...                                                       ...     ...   \n",
       "210000.0 OFFICIALS AND ADMINISTRATORS  Non-Hispanic or Latino    Male   \n",
       "215000.0 OFFICIALS AND ADMINISTRATORS  Non-Hispanic or Latino    Male   \n",
       "220000.0 PROFESSIONALS                 Non-Hispanic or Latino  Female   \n",
       "225000.0 OFFICIALS AND ADMINISTRATORS  Non-Hispanic or Latino    Male   \n",
       "230000.0 OFFICIALS AND ADMINISTRATORS  Non-Hispanic or Latino    Male   \n",
       "\n",
       "                                      Number of Employees  \n",
       "Pay      Job Group                                         \n",
       "25000.0  PARA-PROFESSIONALS                             7  \n",
       "         PROFESSIONALS                                 10  \n",
       "         TECHNICIANS                                    6  \n",
       "30000.0  ADMINISTRATIVE SUPPORT                        10  \n",
       "         PARA-PROFESSIONALS                            10  \n",
       "...                                                   ...  \n",
       "210000.0 OFFICIALS AND ADMINISTRATORS                   8  \n",
       "215000.0 OFFICIALS AND ADMINISTRATORS                   5  \n",
       "220000.0 PROFESSIONALS                                 12  \n",
       "225000.0 OFFICIALS AND ADMINISTRATORS                  10  \n",
       "230000.0 OFFICIALS AND ADMINISTRATORS                  31  \n",
       "\n",
       "[148 rows x 5 columns]"
      ]
     },
     "execution_count": 128,
     "metadata": {},
     "output_type": "execute_result"
    }
   ],
   "source": [
    "df1.groupby([\"Pay\", \"Job Group\"]).min()"
   ]
  },
  {
   "cell_type": "code",
   "execution_count": 144,
   "id": "cf84673a",
   "metadata": {},
   "outputs": [
    {
     "data": {
      "text/plain": [
       "Pay       Agency                                        \n",
       "25000.0   DEPARTMENT OF TRANSPORTATION                      2\n",
       "          OFFICE OF ADMINISTRATIVE TRIALS AND HEARINGS      1\n",
       "          POLICE DEPARTMENT                                 1\n",
       "30000.0   DEPARTMENT OF CITYWIDE ADMINISTRATIVE SERVICES    9\n",
       "          DEPARTMENT OF CORRECTION                          1\n",
       "                                                           ..\n",
       "215000.0  FIRE DEPARTMENT                                   1\n",
       "220000.0  DEPARTMENT OF HEALTH AND MENTAL HYGIENE           1\n",
       "225000.0  FIRE DEPARTMENT                                   1\n",
       "230000.0  FIRE DEPARTMENT                                   1\n",
       "          POLICE DEPARTMENT                                 1\n",
       "Name: Job Group, Length: 527, dtype: int64"
      ]
     },
     "execution_count": 144,
     "metadata": {},
     "output_type": "execute_result"
    }
   ],
   "source": [
    "df1.groupby([\"Pay\",\"Agency\"])[\"Job Group\"].count()"
   ]
  },
  {
   "cell_type": "code",
   "execution_count": 141,
   "id": "eb5d422a",
   "metadata": {},
   "outputs": [
    {
     "data": {
      "text/plain": [
       "<AxesSubplot:xlabel='Gender'>"
      ]
     },
     "execution_count": 141,
     "metadata": {},
     "output_type": "execute_result"
    },
    {
     "data": {
      "image/png": "[encoded data removed]",
      "text/plain": [
       "<Figure size 432x288 with 1 Axes>"
      ]
     },
     "metadata": {
      "needs_background": "light"
     },
     "output_type": "display_data"
    }
   ],
   "source": [
    "df1.groupby([\"Gender\"])[\"Pay\"].count().plot(kind='bar')"
   ]
  },
  {
   "cell_type": "code",
   "execution_count": 148,
   "id": "85040bbb",
   "metadata": {},
   "outputs": [
    {
     "data": {
      "text/plain": [
       "Gender                             Job Group                   \n",
       "Female                             ADMINISTRATIVE SUPPORT          315\n",
       "                                   OFFICIALS AND ADMINISTRATORS    192\n",
       "                                   PARA-PROFESSIONALS              212\n",
       "                                   PROFESSIONALS                   722\n",
       "                                   PROTECTIVE SERVICE              148\n",
       "                                   SERVICE AND MAINTENANCE          73\n",
       "                                   SKILLED CRAFT                     6\n",
       "                                   TECHNICIANS                     111\n",
       "Male                               ADMINISTRATIVE SUPPORT          118\n",
       "                                   OFFICIALS AND ADMINISTRATORS    276\n",
       "                                   PARA-PROFESSIONALS              115\n",
       "                                   PROFESSIONALS                   783\n",
       "                                   PROTECTIVE SERVICE              239\n",
       "                                   SERVICE AND MAINTENANCE         197\n",
       "                                   SKILLED CRAFT                   240\n",
       "                                   TECHNICIANS                     144\n",
       "Unknown or Choose Not to Disclose  PROFESSIONALS                     1\n",
       "Name: Pay, dtype: int64"
      ]
     },
     "execution_count": 148,
     "metadata": {},
     "output_type": "execute_result"
    }
   ],
   "source": [
    "df1.groupby([\"Gender\",\"Job Group\"])[\"Pay\"].count()"
   ]
  },
  {
   "cell_type": "code",
   "execution_count": 149,
   "id": "349502f6",
   "metadata": {},
   "outputs": [
    {
     "data": {
      "text/plain": [
       "<AxesSubplot:xlabel='Gender,Job Group'>"
      ]
     },
     "execution_count": 149,
     "metadata": {},
     "output_type": "execute_result"
    },
    {
     "data": {
      "image/png": "[encoded data removed]",
      "text/plain": [
       "<Figure size 432x288 with 1 Axes>"
      ]
     },
     "metadata": {
      "needs_background": "light"
     },
     "output_type": "display_data"
    }
   ],
   "source": [
    "df1.groupby([\"Gender\",\"Job Group\"])[\"Pay\"].count().plot(kind='bar')                                                    "
   ]
  },
  {
   "cell_type": "code",
   "execution_count": 157,
   "id": "ec9f9e62",
   "metadata": {},
   "outputs": [
    {
     "data": {
      "text/plain": [
       "Pay       Gender\n",
       "25000.0   Female      2\n",
       "          Male        2\n",
       "30000.0   Female     38\n",
       "          Male       47\n",
       "35000.0   Female    122\n",
       "                   ... \n",
       "210000.0  Male        1\n",
       "215000.0  Male        1\n",
       "220000.0  Female      1\n",
       "225000.0  Male        1\n",
       "230000.0  Male        2\n",
       "Name: Number of Employees, Length: 72, dtype: int64"
      ]
     },
     "execution_count": 157,
     "metadata": {},
     "output_type": "execute_result"
    }
   ],
   "source": [
    "df1.groupby([\"Pay\",\"Gender\"])[\"Number of Employees\"].count()"
   ]
  },
  {
   "cell_type": "code",
   "execution_count": 242,
   "id": "69df473f",
   "metadata": {
    "scrolled": false
   },
   "outputs": [
    {
     "data": {
      "text/plain": [
       "(<AxesSubplot:xlabel='Pay,Gender'>,\n",
       " (array([ 0,  1,  2,  3,  4,  5,  6,  7,  8,  9, 10, 11, 12, 13, 14, 15, 16,\n",
       "         17, 18, 19, 20, 21, 22, 23, 24, 25, 26, 27, 28, 29, 30, 31, 32, 33,\n",
       "         34, 35, 36, 37, 38, 39, 40, 41, 42, 43, 44, 45, 46, 47, 48, 49, 50,\n",
       "         51, 52, 53, 54, 55, 56, 57, 58, 59, 60, 61, 62, 63, 64, 65, 66, 67,\n",
       "         68, 69, 70, 71]),\n",
       "  [Text(0, 0, '(25000.0, Female)'),\n",
       "   Text(1, 0, '(25000.0, Male)'),\n",
       "   Text(2, 0, '(30000.0, Female)'),\n",
       "   Text(3, 0, '(30000.0, Male)'),\n",
       "   Text(4, 0, '(35000.0, Female)'),\n",
       "   Text(5, 0, '(35000.0, Male)'),\n",
       "   Text(6, 0, '(40000.0, Female)'),\n",
       "   Text(7, 0, '(40000.0, Male)'),\n",
       "   Text(8, 0, '(45000.0, Female)'),\n",
       "   Text(9, 0, '(45000.0, Male)'),\n",
       "   Text(10, 0, '(50000.0, Female)'),\n",
       "   Text(11, 0, '(50000.0, Male)'),\n",
       "   Text(12, 0, '(55000.0, Female)'),\n",
       "   Text(13, 0, '(55000.0, Male)'),\n",
       "   Text(14, 0, '(60000.0, Female)'),\n",
       "   Text(15, 0, '(60000.0, Male)'),\n",
       "   Text(16, 0, '(65000.0, Female)'),\n",
       "   Text(17, 0, '(65000.0, Male)'),\n",
       "   Text(18, 0, '(70000.0, Female)'),\n",
       "   Text(19, 0, '(70000.0, Male)'),\n",
       "   Text(20, 0, '(75000.0, Female)'),\n",
       "   Text(21, 0, '(75000.0, Male)'),\n",
       "   Text(22, 0, '(75000.0, Unknown or Choose Not to Disclose)'),\n",
       "   Text(23, 0, '(80000.0, Female)'),\n",
       "   Text(24, 0, '(80000.0, Male)'),\n",
       "   Text(25, 0, '(85000.0, Female)'),\n",
       "   Text(26, 0, '(85000.0, Male)'),\n",
       "   Text(27, 0, '(90000.0, Female)'),\n",
       "   Text(28, 0, '(90000.0, Male)'),\n",
       "   Text(29, 0, '(95000.0, Female)'),\n",
       "   Text(30, 0, '(95000.0, Male)'),\n",
       "   Text(31, 0, '(100000.0, Female)'),\n",
       "   Text(32, 0, '(100000.0, Male)'),\n",
       "   Text(33, 0, '(105000.0, Female)'),\n",
       "   Text(34, 0, '(105000.0, Male)'),\n",
       "   Text(35, 0, '(110000.0, Female)'),\n",
       "   Text(36, 0, '(110000.0, Male)'),\n",
       "   Text(37, 0, '(115000.0, Female)'),\n",
       "   Text(38, 0, '(115000.0, Male)'),\n",
       "   Text(39, 0, '(120000.0, Female)'),\n",
       "   Text(40, 0, '(120000.0, Male)'),\n",
       "   Text(41, 0, '(125000.0, Female)'),\n",
       "   Text(42, 0, '(125000.0, Male)'),\n",
       "   Text(43, 0, '(130000.0, Female)'),\n",
       "   Text(44, 0, '(130000.0, Male)'),\n",
       "   Text(45, 0, '(135000.0, Female)'),\n",
       "   Text(46, 0, '(135000.0, Male)'),\n",
       "   Text(47, 0, '(140000.0, Female)'),\n",
       "   Text(48, 0, '(140000.0, Male)'),\n",
       "   Text(49, 0, '(145000.0, Female)'),\n",
       "   Text(50, 0, '(145000.0, Male)'),\n",
       "   Text(51, 0, '(150000.0, Female)'),\n",
       "   Text(52, 0, '(150000.0, Male)'),\n",
       "   Text(53, 0, '(155000.0, Female)'),\n",
       "   Text(54, 0, '(155000.0, Male)'),\n",
       "   Text(55, 0, '(160000.0, Female)'),\n",
       "   Text(56, 0, '(160000.0, Male)'),\n",
       "   Text(57, 0, '(165000.0, Female)'),\n",
       "   Text(58, 0, '(165000.0, Male)'),\n",
       "   Text(59, 0, '(170000.0, Female)'),\n",
       "   Text(60, 0, '(170000.0, Male)'),\n",
       "   Text(61, 0, '(175000.0, Male)'),\n",
       "   Text(62, 0, '(180000.0, Female)'),\n",
       "   Text(63, 0, '(180000.0, Male)'),\n",
       "   Text(64, 0, '(185000.0, Female)'),\n",
       "   Text(65, 0, '(190000.0, Male)'),\n",
       "   Text(66, 0, '(195000.0, Male)'),\n",
       "   Text(67, 0, '(210000.0, Male)'),\n",
       "   Text(68, 0, '(215000.0, Male)'),\n",
       "   Text(69, 0, '(220000.0, Female)'),\n",
       "   Text(70, 0, '(225000.0, Male)'),\n",
       "   Text(71, 0, '(230000.0, Male)')]))"
      ]
     },
     "execution_count": 242,
     "metadata": {},
     "output_type": "execute_result"
    },
    {
     "data": {
      "image/png": "[encoded data removed]",
      "text/plain": [
       "<Figure size 432x288 with 1 Axes>"
      ]
     },
     "metadata": {
      "needs_background": "light"
     },
     "output_type": "display_data"
    }
   ],
   "source": [
    "df1.groupby([\"Pay\",\"Gender\"])[\"Job Group\"].count().plot(kind='bar'), plt.xticks(rotation=90)"
   ]
  },
  {
   "cell_type": "code",
   "execution_count": 231,
   "id": "d7671026",
   "metadata": {},
   "outputs": [
    {
     "data": {
      "text/html": [
       "<div>\n",
       "<style scoped>\n",
       "    .dataframe tbody tr th:only-of-type {\n",
       "        vertical-align: middle;\n",
       "    }\n",
       "\n",
       "    .dataframe tbody tr th {\n",
       "        vertical-align: top;\n",
       "    }\n",
       "\n",
       "    .dataframe thead th {\n",
       "        text-align: right;\n",
       "    }\n",
       "</style>\n",
       "<table border=\"1\" class=\"dataframe\">\n",
       "  <thead>\n",
       "    <tr style=\"text-align: right;\">\n",
       "      <th></th>\n",
       "      <th>Pay</th>\n",
       "    </tr>\n",
       "  </thead>\n",
       "  <tbody>\n",
       "    <tr>\n",
       "      <th>Pay</th>\n",
       "      <td>1.0</td>\n",
       "    </tr>\n",
       "  </tbody>\n",
       "</table>\n",
       "</div>"
      ],
      "text/plain": [
       "     Pay\n",
       "Pay  1.0"
      ]
     },
     "execution_count": 231,
     "metadata": {},
     "output_type": "execute_result"
    }
   ],
   "source": [
    "df1.corr()"
   ]
  },
  {
   "cell_type": "code",
   "execution_count": 159,
   "id": "c73c4df5",
   "metadata": {},
   "outputs": [
    {
     "data": {
      "text/plain": [
       "<AxesSubplot:xlabel='Gender', ylabel='Pay'>"
      ]
     },
     "execution_count": 159,
     "metadata": {},
     "output_type": "execute_result"
    },
    {
     "data": {
      "image/png": "[encoded data removed]",
      "text/plain": [
       "<Figure size 432x288 with 1 Axes>"
      ]
     },
     "metadata": {
      "needs_background": "light"
     },
     "output_type": "display_data"
    }
   ],
   "source": [
    "df1.plot(kind='scatter', x='Gender', y='Pay')"
   ]
  },
  {
   "cell_type": "code",
   "execution_count": 160,
   "id": "ede002aa",
   "metadata": {},
   "outputs": [
    {
     "data": {
      "text/plain": [
       "<AxesSubplot:xlabel='Race', ylabel='Pay'>"
      ]
     },
     "execution_count": 160,
     "metadata": {},
     "output_type": "execute_result"
    },
    {
     "data": {
      "image/png": "[encoded data removed]",
      "text/plain": [
       "<Figure size 432x288 with 1 Axes>"
      ]
     },
     "metadata": {
      "needs_background": "light"
     },
     "output_type": "display_data"
    }
   ],
   "source": [
    "df1.plot(kind='scatter', x='Race', y='Pay')"
   ]
  },
  {
   "cell_type": "code",
   "execution_count": 161,
   "id": "46b50f70",
   "metadata": {
    "scrolled": true
   },
   "outputs": [
    {
     "data": {
      "text/plain": [
       "<AxesSubplot:xlabel='Ethnicity', ylabel='Pay'>"
      ]
     },
     "execution_count": 161,
     "metadata": {},
     "output_type": "execute_result"
    },
    {
     "data": {
      "image/png": "[encoded data removed]",
      "text/plain": [
       "<Figure size 432x288 with 1 Axes>"
      ]
     },
     "metadata": {
      "needs_background": "light"
     },
     "output_type": "display_data"
    }
   ],
   "source": [
    "df1.plot(kind='scatter', x='Ethnicity', y='Pay')"
   ]
  },
  {
   "cell_type": "code",
   "execution_count": 241,
   "id": "bf6014f1",
   "metadata": {},
   "outputs": [
    {
     "data": {
      "text/plain": [
       "(<AxesSubplot:xlabel='Agency', ylabel='Pay'>,\n",
       " ([0,\n",
       "   1,\n",
       "   2,\n",
       "   3,\n",
       "   4,\n",
       "   5,\n",
       "   6,\n",
       "   7,\n",
       "   8,\n",
       "   9,\n",
       "   10,\n",
       "   11,\n",
       "   12,\n",
       "   13,\n",
       "   14,\n",
       "   15,\n",
       "   16,\n",
       "   17,\n",
       "   18,\n",
       "   19,\n",
       "   20,\n",
       "   21,\n",
       "   22,\n",
       "   23,\n",
       "   24,\n",
       "   25,\n",
       "   26,\n",
       "   27,\n",
       "   28,\n",
       "   29,\n",
       "   30,\n",
       "   31,\n",
       "   32],\n",
       "  [Text(0, 0, ''),\n",
       "   Text(0, 0, ''),\n",
       "   Text(0, 0, ''),\n",
       "   Text(0, 0, ''),\n",
       "   Text(0, 0, ''),\n",
       "   Text(0, 0, ''),\n",
       "   Text(0, 0, ''),\n",
       "   Text(0, 0, ''),\n",
       "   Text(0, 0, ''),\n",
       "   Text(0, 0, ''),\n",
       "   Text(0, 0, ''),\n",
       "   Text(0, 0, ''),\n",
       "   Text(0, 0, ''),\n",
       "   Text(0, 0, ''),\n",
       "   Text(0, 0, ''),\n",
       "   Text(0, 0, ''),\n",
       "   Text(0, 0, ''),\n",
       "   Text(0, 0, ''),\n",
       "   Text(0, 0, ''),\n",
       "   Text(0, 0, ''),\n",
       "   Text(0, 0, ''),\n",
       "   Text(0, 0, ''),\n",
       "   Text(0, 0, ''),\n",
       "   Text(0, 0, ''),\n",
       "   Text(0, 0, ''),\n",
       "   Text(0, 0, ''),\n",
       "   Text(0, 0, ''),\n",
       "   Text(0, 0, ''),\n",
       "   Text(0, 0, ''),\n",
       "   Text(0, 0, ''),\n",
       "   Text(0, 0, ''),\n",
       "   Text(0, 0, ''),\n",
       "   Text(0, 0, '')]))"
      ]
     },
     "execution_count": 241,
     "metadata": {},
     "output_type": "execute_result"
    },
    {
     "data": {
      "image/png": "[encoded data removed]",
      "text/plain": [
       "<Figure size 432x288 with 1 Axes>"
      ]
     },
     "metadata": {
      "needs_background": "light"
     },
     "output_type": "display_data"
    }
   ],
   "source": [
    "df1.plot(kind='scatter', x='Agency', y='Pay'), plt.xticks(rotation=90)"
   ]
  },
  {
   "cell_type": "code",
   "execution_count": 240,
   "id": "1ea15a07",
   "metadata": {
    "scrolled": true
   },
   "outputs": [
    {
     "data": {
      "text/plain": [
       "(<AxesSubplot:xlabel='Job Group', ylabel='Pay'>,\n",
       " ([0, 1, 2, 3, 4, 5, 6, 7],\n",
       "  [Text(0, 0, ''),\n",
       "   Text(0, 0, ''),\n",
       "   Text(0, 0, ''),\n",
       "   Text(0, 0, ''),\n",
       "   Text(0, 0, ''),\n",
       "   Text(0, 0, ''),\n",
       "   Text(0, 0, ''),\n",
       "   Text(0, 0, '')]))"
      ]
     },
     "execution_count": 240,
     "metadata": {},
     "output_type": "execute_result"
    },
    {
     "data": {
      "image/png": "[encoded data removed]",
      "text/plain": [
       "<Figure size 432x288 with 1 Axes>"
      ]
     },
     "metadata": {
      "needs_background": "light"
     },
     "output_type": "display_data"
    }
   ],
   "source": [
    "df1.plot(kind='scatter', x='Job Group', y='Pay'), plt.xticks(rotation=90)"
   ]
  },
  {
   "cell_type": "code",
   "execution_count": 182,
   "id": "ebac0863",
   "metadata": {
    "scrolled": true
   },
   "outputs": [
    {
     "data": {
      "text/plain": [
       "(<seaborn.axisgrid.FacetGrid at 0x1e4a0975b20>,\n",
       " Text(0.5, 1.0, 'Chart of Pay of City Workers'))"
      ]
     },
     "execution_count": 182,
     "metadata": {},
     "output_type": "execute_result"
    },
    {
     "data": {
      "image/png": "[encoded data removed]",
      "text/plain": [
       "<Figure size 360x360 with 1 Axes>"
      ]
     },
     "metadata": {
      "needs_background": "light"
     },
     "output_type": "display_data"
    }
   ],
   "source": [
    "sns.displot(df1['Pay']), plt.title(\"Chart of Pay of City Workers\", fontsize = 14)"
   ]
  },
  {
   "cell_type": "code",
   "execution_count": 170,
   "id": "c5fd9494",
   "metadata": {},
   "outputs": [
    {
     "name": "stderr",
     "output_type": "stream",
     "text": [
      "C:\\Users\\prati\\anaconda3\\lib\\site-packages\\seaborn\\distributions.py:306: UserWarning: Dataset has 0 variance; skipping density estimate.\n",
      "  warnings.warn(msg, UserWarning)\n"
     ]
    },
    {
     "data": {
      "text/plain": [
       "<seaborn.axisgrid.PairGrid at 0x1e49f2d7a60>"
      ]
     },
     "execution_count": 170,
     "metadata": {},
     "output_type": "execute_result"
    },
    {
     "data": {
      "image/png": "[encoded data removed]",
      "text/plain": [
       "<Figure size 224.875x180 with 2 Axes>"
      ]
     },
     "metadata": {
      "needs_background": "light"
     },
     "output_type": "display_data"
    }
   ],
   "source": [
    "sns.pairplot(df1, hue='Gender')"
   ]
  },
  {
   "cell_type": "code",
   "execution_count": 181,
   "id": "cb81b002",
   "metadata": {},
   "outputs": [
    {
     "data": {
      "text/plain": [
       "(<AxesSubplot:title={'center':'Pay Comparision by Gender'}, xlabel='Pay', ylabel='Gender'>,\n",
       " Text(0.5, 1.0, 'Pay Comparision by Gender'))"
      ]
     },
     "execution_count": 181,
     "metadata": {},
     "output_type": "execute_result"
    },
    {
     "data": {
      "image/png": "[encoded data removed]",
      "text/plain": [
       "<Figure size 432x288 with 1 Axes>"
      ]
     },
     "metadata": {
      "needs_background": "light"
     },
     "output_type": "display_data"
    }
   ],
   "source": [
    "sns.boxplot(x='Pay', y='Gender', data = df1), plt.title(\"Pay Comparision by Gender\", fontsize = 14)"
   ]
  },
  {
   "cell_type": "code",
   "execution_count": 183,
   "id": "f84fb096",
   "metadata": {},
   "outputs": [
    {
     "data": {
      "text/plain": [
       "(<AxesSubplot:title={'center':'Pay Comparision by Race'}, xlabel='Pay', ylabel='Race'>,\n",
       " Text(0.5, 1.0, 'Pay Comparision by Race'))"
      ]
     },
     "execution_count": 183,
     "metadata": {},
     "output_type": "execute_result"
    },
    {
     "data": {
      "image/png": "[encoded data removed]",
      "text/plain": [
       "<Figure size 432x288 with 1 Axes>"
      ]
     },
     "metadata": {
      "needs_background": "light"
     },
     "output_type": "display_data"
    }
   ],
   "source": [
    "sns.boxplot(x='Pay', y='Race', data = df1), plt.title(\"Pay Comparision by Race\", fontsize = 14)"
   ]
  },
  {
   "cell_type": "code",
   "execution_count": 184,
   "id": "7249a19d",
   "metadata": {},
   "outputs": [
    {
     "data": {
      "text/plain": [
       "(<AxesSubplot:title={'center':'Pay Comparision by Ethnicity'}, xlabel='Pay', ylabel='Ethnicity'>,\n",
       " Text(0.5, 1.0, 'Pay Comparision by Ethnicity'))"
      ]
     },
     "execution_count": 184,
     "metadata": {},
     "output_type": "execute_result"
    },
    {
     "data": {
      "image/png": "[encoded data removed]",
      "text/plain": [
       "<Figure size 432x288 with 1 Axes>"
      ]
     },
     "metadata": {
      "needs_background": "light"
     },
     "output_type": "display_data"
    }
   ],
   "source": [
    "sns.boxplot(x='Pay', y='Ethnicity', data = df1), plt.title(\"Pay Comparision by Ethnicity\", fontsize = 14)"
   ]
  },
  {
   "cell_type": "code",
   "execution_count": 187,
   "id": "bd0a13a7",
   "metadata": {},
   "outputs": [
    {
     "data": {
      "text/plain": [
       "(<AxesSubplot:title={'center':'Pay Comparision by Job Group & Gender'}, xlabel='Pay', ylabel='Job Group'>,\n",
       " Text(0.5, 1.0, 'Pay Comparision by Job Group & Gender'))"
      ]
     },
     "execution_count": 187,
     "metadata": {},
     "output_type": "execute_result"
    },
    {
     "data": {
      "image/png": "[encoded data removed]",
      "text/plain": [
       "<Figure size 432x288 with 1 Axes>"
      ]
     },
     "metadata": {
      "needs_background": "light"
     },
     "output_type": "display_data"
    }
   ],
   "source": [
    "sns.boxplot(x='Pay', y='Job Group', data = df1, hue='Gender'), plt.title(\"Pay Comparision by Job Group & Gender\", fontsize = 14)"
   ]
  },
  {
   "cell_type": "code",
   "execution_count": 232,
   "id": "bd990162",
   "metadata": {
    "scrolled": true
   },
   "outputs": [
    {
     "data": {
      "text/plain": [
       "(<seaborn.axisgrid.FacetGrid at 0x1e4b3e10d90>,\n",
       " (array([ 0,  1,  2,  3,  4,  5,  6,  7,  8,  9, 10, 11, 12, 13, 14, 15, 16,\n",
       "         17, 18, 19, 20, 21, 22, 23, 24, 25, 26, 27, 28, 29, 30, 31, 32]),\n",
       "  [Text(0, 0, 'DEPARTMENT OF BUILDINGS'),\n",
       "   Text(1, 0, 'FIRE DEPARTMENT'),\n",
       "   Text(2, 0, 'LAW DEPARTMENT'),\n",
       "   Text(3, 0, 'POLICE DEPARTMENT'),\n",
       "   Text(4, 0, \"ADMINISTRATION FOR CHILDREN'S SERVICES\"),\n",
       "   Text(5, 0, 'BUSINESS INTEGRITY COMMISSION'),\n",
       "   Text(6, 0, 'DEPARTMENT FOR THE AGING'),\n",
       "   Text(7, 0, 'DEPARTMENT OF CITY PLANNING'),\n",
       "   Text(8, 0, 'DEPARTMENT OF CITYWIDE ADMINISTRATIVE SERVICES'),\n",
       "   Text(9, 0, 'DEPARTMENT OF CONSUMER AFFAIRS'),\n",
       "   Text(10, 0, 'DEPARTMENT OF CORRECTION'),\n",
       "   Text(11, 0, 'DEPARTMENT OF DESIGN AND CONSTRUCTION'),\n",
       "   Text(12, 0, 'DEPARTMENT OF EDUCATION (NON-PEDAGOGICAL)'),\n",
       "   Text(13, 0, 'DEPARTMENT OF ENVIRONMENTAL PROTECTION'),\n",
       "   Text(14, 0, 'DEPARTMENT OF FINANCE'),\n",
       "   Text(15, 0, 'DEPARTMENT OF HEALTH AND MENTAL HYGIENE'),\n",
       "   Text(16, 0, 'DEPARTMENT OF HOMELESS SERVICES'),\n",
       "   Text(17, 0, 'DEPARTMENT OF INFORMATION TECHNOLOGY AND TELECOMMUNICATIONS'),\n",
       "   Text(18, 0, 'DEPARTMENT OF INVESTIGATION'),\n",
       "   Text(19, 0, 'DEPARTMENT OF PARKS AND RECREATION'),\n",
       "   Text(20, 0, 'DEPARTMENT OF PROBATION'),\n",
       "   Text(21, 0, 'DEPARTMENT OF SANITATION'),\n",
       "   Text(22, 0, 'DEPARTMENT OF SMALL BUSINESS SERVICES'),\n",
       "   Text(23, 0, 'DEPARTMENT OF TRANSPORTATION'),\n",
       "   Text(24, 0, 'DEPARTMENT OF YOUTH AND COMMUNITY DEVELOPMENT'),\n",
       "   Text(25, 0, 'HOUSING PRESERVATION AND DEVELOPMENT'),\n",
       "   Text(26, 0, 'HUMAN RESOURCES ADMINISTRATION/DEPARTMENT OF SOCIAL SERVICES'),\n",
       "   Text(27, 0, 'MAYORS OFFICE OF CONTRACT SERVICES'),\n",
       "   Text(28, 0, 'OFFICE OF ADMINISTRATIVE TRIALS AND HEARINGS'),\n",
       "   Text(29, 0, 'OFFICE OF EMERGENCY MANAGEMENT'),\n",
       "   Text(30, 0, 'OFFICE OF LABOR RELATIONS'),\n",
       "   Text(31, 0, 'OFFICE OF MANAGEMENT AND BUDGET'),\n",
       "   Text(32, 0, 'OFFICE OF THE MAYOR')]))"
      ]
     },
     "execution_count": 232,
     "metadata": {},
     "output_type": "execute_result"
    },
    {
     "data": {
      "image/png": "[encoded data removed]",
      "text/plain": [
       "<Figure size 1293.62x360 with 1 Axes>"
      ]
     },
     "metadata": {
      "needs_background": "light"
     },
     "output_type": "display_data"
    }
   ],
   "source": [
    "sns.catplot(x='Agency', y='Pay', data = df1, hue='Gender', kind='box', height=5, aspect=3), plt.xticks(rotation=90)"
   ]
  },
  {
   "cell_type": "markdown",
   "id": "676ae35e",
   "metadata": {},
   "source": [
    "## Of the 36 agencies reviewed only 4 agencies (Law Department, ACS, Department of Correction, Homeless Services) have similar ranges and median for male and female employees. The largest range between the 2 genders was seen in the Department of Informational Services. The agency with the lowest pay was Administrative Trials and hearings with mostly females working there. Regarding race and ethnicity, the pay of White Non-Hospanic workers exceeded those of other races and ethnicities with persons identifying as 'two or more races' earning the least."
   ]
  }
 ],
 "metadata": {
  "kernelspec": {
   "display_name": "Python 3",
   "language": "python",
   "name": "python3"
  },
  "language_info": {
   "codemirror_mode": {
    "name": "ipython",
    "version": 3
   },
   "file_extension": ".py",
   "mimetype": "text/x-python",
   "name": "python",
   "nbconvert_exporter": "python",
   "pygments_lexer": "ipython3",
   "version": "3.8.8"
  }
 },
 "nbformat": 4,
 "nbformat_minor": 5
}
